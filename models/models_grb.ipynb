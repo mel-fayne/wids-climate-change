{
  "cells": [
    {
      "cell_type": "markdown",
      "metadata": {
        "id": "HlIcpaKaSSBe"
      },
      "source": [
        "# WiDS Datathon 2023\n",
        "\n",
        "The purpose of this notebook is to run differnet regressor model experiements on our cleaned data from the preprocessor notebook.\n",
        "___"
      ]
    },
    {
      "cell_type": "markdown",
      "metadata": {
        "id": "4ICTX0StSoyp"
      },
      "source": [
        "# Importing Libraries"
      ]
    },
    {
      "cell_type": "code",
      "execution_count": null,
      "metadata": {
        "id": "NAgK2jlVSQZ2"
      },
      "outputs": [],
      "source": [
        "import pandas as pd\n",
        "import numpy as np\n",
        "import seaborn as sns\n",
        "import matplotlib.pyplot as plt\n",
        "\n",
        "# Regression Libraries libraries\n",
        "import lightgbm as lgb\n",
        "from sklearn. linear_model import Lasso\n",
        "from sklearn.ensemble import GradientBoostingRegressor\n",
        "\n",
        "# Other ML Librariesx\n",
        "from sklearn.model_selection import train_test_split\n",
        "from sklearn import preprocessing, model_selection\n",
        "from sklearn.preprocessing import MinMaxScaler\n",
        "from sklearn.model_selection import RandomizedSearchCV\n",
        "from sklearn.metrics import mean_squared_error, r2_score, mean_absolute_error\n",
        "from sklearn.model_selection import cross_val_score, cross_val_predict\n",
        "from sklearn.model_selection import KFold"
      ]
    },
    {
      "cell_type": "markdown",
      "metadata": {
        "id": "o0syYyshUISJ"
      },
      "source": [
        "# Reading data\n",
        "___"
      ]
    },
    {
      "cell_type": "code",
      "execution_count": null,
      "metadata": {
        "colab": {
          "base_uri": "https://localhost:8080/",
          "height": 369
        },
        "id": "xsEgNHt7UISM",
        "outputId": "282e4b9e-70cc-4500-bcc7-dbf7f5e2a0bd"
      },
      "outputs": [
        {
          "name": "stdout",
          "output_type": "stream",
          "text": [
            "The shape of the dataset is: (375734, 208)\n"
          ]
        },
        {
          "data": {
            "text/html": [
              "\n",
              "  <div id=\"df-c785f8ed-d0cc-4948-9ea4-7145a948b394\">\n",
              "    <div class=\"colab-df-container\">\n",
              "      <div>\n",
              "<style scoped>\n",
              "    .dataframe tbody tr th:only-of-type {\n",
              "        vertical-align: middle;\n",
              "    }\n",
              "\n",
              "    .dataframe tbody tr th {\n",
              "        vertical-align: top;\n",
              "    }\n",
              "\n",
              "    .dataframe thead th {\n",
              "        text-align: right;\n",
              "    }\n",
              "</style>\n",
              "<table border=\"1\" class=\"dataframe\">\n",
              "  <thead>\n",
              "    <tr style=\"text-align: right;\">\n",
              "      <th></th>\n",
              "      <th>index</th>\n",
              "      <th>lon</th>\n",
              "      <th>startdate</th>\n",
              "      <th>contest-pevpr-sfc-gauss-14d__pevpr</th>\n",
              "      <th>nmme0-tmp2m-34w__nmme0mean</th>\n",
              "      <th>contest-wind-h10-14d__wind-hgt-10</th>\n",
              "      <th>nmme-tmp2m-56w__nmmemean</th>\n",
              "      <th>contest-rhum-sig995-14d__rhum</th>\n",
              "      <th>nmme-prate-34w__ccsm3</th>\n",
              "      <th>nmme-prate-34w__ccsm4</th>\n",
              "      <th>...</th>\n",
              "      <th>month</th>\n",
              "      <th>season</th>\n",
              "      <th>week</th>\n",
              "      <th>dayofyear</th>\n",
              "      <th>dayofyear_sin</th>\n",
              "      <th>dayofyear_cos</th>\n",
              "      <th>month_sin</th>\n",
              "      <th>month_cos</th>\n",
              "      <th>season_sin</th>\n",
              "      <th>season_cos</th>\n",
              "    </tr>\n",
              "  </thead>\n",
              "  <tbody>\n",
              "    <tr>\n",
              "      <th>0</th>\n",
              "      <td>0</td>\n",
              "      <td>1.159198</td>\n",
              "      <td>2014-09-01</td>\n",
              "      <td>-0.178921</td>\n",
              "      <td>1.793646</td>\n",
              "      <td>0.558364</td>\n",
              "      <td>1.579199</td>\n",
              "      <td>1.089301</td>\n",
              "      <td>-0.844543</td>\n",
              "      <td>-0.183074</td>\n",
              "      <td>...</td>\n",
              "      <td>0.718982</td>\n",
              "      <td>1.343489</td>\n",
              "      <td>0.611932</td>\n",
              "      <td>0.578406</td>\n",
              "      <td>-1.230657</td>\n",
              "      <td>-0.692304</td>\n",
              "      <td>-1.410729</td>\n",
              "      <td>0.00238</td>\n",
              "      <td>-1.417124</td>\n",
              "      <td>0.005808</td>\n",
              "    </tr>\n",
              "    <tr>\n",
              "      <th>1</th>\n",
              "      <td>1</td>\n",
              "      <td>1.159198</td>\n",
              "      <td>2014-09-02</td>\n",
              "      <td>-0.224783</td>\n",
              "      <td>1.793646</td>\n",
              "      <td>0.552312</td>\n",
              "      <td>1.579199</td>\n",
              "      <td>1.137578</td>\n",
              "      <td>-0.844543</td>\n",
              "      <td>-0.183074</td>\n",
              "      <td>...</td>\n",
              "      <td>0.718982</td>\n",
              "      <td>1.343489</td>\n",
              "      <td>0.611932</td>\n",
              "      <td>0.587901</td>\n",
              "      <td>-1.242399</td>\n",
              "      <td>-0.670973</td>\n",
              "      <td>-1.410729</td>\n",
              "      <td>0.00238</td>\n",
              "      <td>-1.417124</td>\n",
              "      <td>0.005808</td>\n",
              "    </tr>\n",
              "    <tr>\n",
              "      <th>2</th>\n",
              "      <td>2</td>\n",
              "      <td>1.159198</td>\n",
              "      <td>2014-09-03</td>\n",
              "      <td>-0.271269</td>\n",
              "      <td>1.793646</td>\n",
              "      <td>0.534287</td>\n",
              "      <td>1.579199</td>\n",
              "      <td>1.179532</td>\n",
              "      <td>-0.844543</td>\n",
              "      <td>-0.183074</td>\n",
              "      <td>...</td>\n",
              "      <td>0.718982</td>\n",
              "      <td>1.343489</td>\n",
              "      <td>0.611932</td>\n",
              "      <td>0.597396</td>\n",
              "      <td>-1.253772</td>\n",
              "      <td>-0.649443</td>\n",
              "      <td>-1.410729</td>\n",
              "      <td>0.00238</td>\n",
              "      <td>-1.417124</td>\n",
              "      <td>0.005808</td>\n",
              "    </tr>\n",
              "    <tr>\n",
              "      <th>3</th>\n",
              "      <td>3</td>\n",
              "      <td>1.159198</td>\n",
              "      <td>2014-09-04</td>\n",
              "      <td>-0.245280</td>\n",
              "      <td>1.793646</td>\n",
              "      <td>0.513318</td>\n",
              "      <td>1.579199</td>\n",
              "      <td>1.177808</td>\n",
              "      <td>-0.844543</td>\n",
              "      <td>-0.183074</td>\n",
              "      <td>...</td>\n",
              "      <td>0.718982</td>\n",
              "      <td>1.343489</td>\n",
              "      <td>0.611932</td>\n",
              "      <td>0.606891</td>\n",
              "      <td>-1.264774</td>\n",
              "      <td>-0.627721</td>\n",
              "      <td>-1.410729</td>\n",
              "      <td>0.00238</td>\n",
              "      <td>-1.417124</td>\n",
              "      <td>0.005808</td>\n",
              "    </tr>\n",
              "    <tr>\n",
              "      <th>4</th>\n",
              "      <td>4</td>\n",
              "      <td>1.159198</td>\n",
              "      <td>2014-09-05</td>\n",
              "      <td>-0.177562</td>\n",
              "      <td>1.793646</td>\n",
              "      <td>0.491401</td>\n",
              "      <td>1.579199</td>\n",
              "      <td>1.134129</td>\n",
              "      <td>-0.844543</td>\n",
              "      <td>-0.183074</td>\n",
              "      <td>...</td>\n",
              "      <td>0.718982</td>\n",
              "      <td>1.343489</td>\n",
              "      <td>0.611932</td>\n",
              "      <td>0.616386</td>\n",
              "      <td>-1.275400</td>\n",
              "      <td>-0.605812</td>\n",
              "      <td>-1.410729</td>\n",
              "      <td>0.00238</td>\n",
              "      <td>-1.417124</td>\n",
              "      <td>0.005808</td>\n",
              "    </tr>\n",
              "  </tbody>\n",
              "</table>\n",
              "<p>5 rows × 208 columns</p>\n",
              "</div>\n",
              "      <button class=\"colab-df-convert\" onclick=\"convertToInteractive('df-c785f8ed-d0cc-4948-9ea4-7145a948b394')\"\n",
              "              title=\"Convert this dataframe to an interactive table.\"\n",
              "              style=\"display:none;\">\n",
              "        \n",
              "  <svg xmlns=\"http://www.w3.org/2000/svg\" height=\"24px\"viewBox=\"0 0 24 24\"\n",
              "       width=\"24px\">\n",
              "    <path d=\"M0 0h24v24H0V0z\" fill=\"none\"/>\n",
              "    <path d=\"M18.56 5.44l.94 2.06.94-2.06 2.06-.94-2.06-.94-.94-2.06-.94 2.06-2.06.94zm-11 1L8.5 8.5l.94-2.06 2.06-.94-2.06-.94L8.5 2.5l-.94 2.06-2.06.94zm10 10l.94 2.06.94-2.06 2.06-.94-2.06-.94-.94-2.06-.94 2.06-2.06.94z\"/><path d=\"M17.41 7.96l-1.37-1.37c-.4-.4-.92-.59-1.43-.59-.52 0-1.04.2-1.43.59L10.3 9.45l-7.72 7.72c-.78.78-.78 2.05 0 2.83L4 21.41c.39.39.9.59 1.41.59.51 0 1.02-.2 1.41-.59l7.78-7.78 2.81-2.81c.8-.78.8-2.07 0-2.86zM5.41 20L4 18.59l7.72-7.72 1.47 1.35L5.41 20z\"/>\n",
              "  </svg>\n",
              "      </button>\n",
              "      \n",
              "  <style>\n",
              "    .colab-df-container {\n",
              "      display:flex;\n",
              "      flex-wrap:wrap;\n",
              "      gap: 12px;\n",
              "    }\n",
              "\n",
              "    .colab-df-convert {\n",
              "      background-color: #E8F0FE;\n",
              "      border: none;\n",
              "      border-radius: 50%;\n",
              "      cursor: pointer;\n",
              "      display: none;\n",
              "      fill: #1967D2;\n",
              "      height: 32px;\n",
              "      padding: 0 0 0 0;\n",
              "      width: 32px;\n",
              "    }\n",
              "\n",
              "    .colab-df-convert:hover {\n",
              "      background-color: #E2EBFA;\n",
              "      box-shadow: 0px 1px 2px rgba(60, 64, 67, 0.3), 0px 1px 3px 1px rgba(60, 64, 67, 0.15);\n",
              "      fill: #174EA6;\n",
              "    }\n",
              "\n",
              "    [theme=dark] .colab-df-convert {\n",
              "      background-color: #3B4455;\n",
              "      fill: #D2E3FC;\n",
              "    }\n",
              "\n",
              "    [theme=dark] .colab-df-convert:hover {\n",
              "      background-color: #434B5C;\n",
              "      box-shadow: 0px 1px 3px 1px rgba(0, 0, 0, 0.15);\n",
              "      filter: drop-shadow(0px 1px 2px rgba(0, 0, 0, 0.3));\n",
              "      fill: #FFFFFF;\n",
              "    }\n",
              "  </style>\n",
              "\n",
              "      <script>\n",
              "        const buttonEl =\n",
              "          document.querySelector('#df-c785f8ed-d0cc-4948-9ea4-7145a948b394 button.colab-df-convert');\n",
              "        buttonEl.style.display =\n",
              "          google.colab.kernel.accessAllowed ? 'block' : 'none';\n",
              "\n",
              "        async function convertToInteractive(key) {\n",
              "          const element = document.querySelector('#df-c785f8ed-d0cc-4948-9ea4-7145a948b394');\n",
              "          const dataTable =\n",
              "            await google.colab.kernel.invokeFunction('convertToInteractive',\n",
              "                                                     [key], {});\n",
              "          if (!dataTable) return;\n",
              "\n",
              "          const docLinkHtml = 'Like what you see? Visit the ' +\n",
              "            '<a target=\"_blank\" href=https://colab.research.google.com/notebooks/data_table.ipynb>data table notebook</a>'\n",
              "            + ' to learn more about interactive tables.';\n",
              "          element.innerHTML = '';\n",
              "          dataTable['output_type'] = 'display_data';\n",
              "          await google.colab.output.renderOutput(dataTable, element);\n",
              "          const docLink = document.createElement('div');\n",
              "          docLink.innerHTML = docLinkHtml;\n",
              "          element.appendChild(docLink);\n",
              "        }\n",
              "      </script>\n",
              "    </div>\n",
              "  </div>\n",
              "  "
            ],
            "text/plain": [
              "   index       lon   startdate  contest-pevpr-sfc-gauss-14d__pevpr  \\\n",
              "0      0  1.159198  2014-09-01                           -0.178921   \n",
              "1      1  1.159198  2014-09-02                           -0.224783   \n",
              "2      2  1.159198  2014-09-03                           -0.271269   \n",
              "3      3  1.159198  2014-09-04                           -0.245280   \n",
              "4      4  1.159198  2014-09-05                           -0.177562   \n",
              "\n",
              "   nmme0-tmp2m-34w__nmme0mean  contest-wind-h10-14d__wind-hgt-10  \\\n",
              "0                    1.793646                           0.558364   \n",
              "1                    1.793646                           0.552312   \n",
              "2                    1.793646                           0.534287   \n",
              "3                    1.793646                           0.513318   \n",
              "4                    1.793646                           0.491401   \n",
              "\n",
              "   nmme-tmp2m-56w__nmmemean  contest-rhum-sig995-14d__rhum  \\\n",
              "0                  1.579199                       1.089301   \n",
              "1                  1.579199                       1.137578   \n",
              "2                  1.579199                       1.179532   \n",
              "3                  1.579199                       1.177808   \n",
              "4                  1.579199                       1.134129   \n",
              "\n",
              "   nmme-prate-34w__ccsm3  nmme-prate-34w__ccsm4  ...     month    season  \\\n",
              "0              -0.844543              -0.183074  ...  0.718982  1.343489   \n",
              "1              -0.844543              -0.183074  ...  0.718982  1.343489   \n",
              "2              -0.844543              -0.183074  ...  0.718982  1.343489   \n",
              "3              -0.844543              -0.183074  ...  0.718982  1.343489   \n",
              "4              -0.844543              -0.183074  ...  0.718982  1.343489   \n",
              "\n",
              "       week  dayofyear  dayofyear_sin  dayofyear_cos  month_sin  month_cos  \\\n",
              "0  0.611932   0.578406      -1.230657      -0.692304  -1.410729    0.00238   \n",
              "1  0.611932   0.587901      -1.242399      -0.670973  -1.410729    0.00238   \n",
              "2  0.611932   0.597396      -1.253772      -0.649443  -1.410729    0.00238   \n",
              "3  0.611932   0.606891      -1.264774      -0.627721  -1.410729    0.00238   \n",
              "4  0.611932   0.616386      -1.275400      -0.605812  -1.410729    0.00238   \n",
              "\n",
              "   season_sin  season_cos  \n",
              "0   -1.417124    0.005808  \n",
              "1   -1.417124    0.005808  \n",
              "2   -1.417124    0.005808  \n",
              "3   -1.417124    0.005808  \n",
              "4   -1.417124    0.005808  \n",
              "\n",
              "[5 rows x 208 columns]"
            ]
          },
          "execution_count": 3,
          "metadata": {},
          "output_type": "execute_result"
        }
      ],
      "source": [
        "# Reading the clean train dataset\n",
        "# train_df = pd.read_csv('/kaggle/input/widsdatathon2023/train_data.csv') \n",
        "train_df = pd.read_csv(\"data/clean_train.csv\")\n",
        "print(f'The shape of the dataset is: {train_df.shape}')\n",
        "train_df.head()"
      ]
    },
    {
      "cell_type": "code",
      "execution_count": null,
      "metadata": {
        "colab": {
          "base_uri": "https://localhost:8080/",
          "height": 369
        },
        "id": "cNIS-fIsUISP",
        "outputId": "58a1e4f5-568b-4b4d-b935-bae8f6f17ef5"
      },
      "outputs": [
        {
          "name": "stdout",
          "output_type": "stream",
          "text": [
            "The shape of the dataset is: (31354, 207)\n"
          ]
        },
        {
          "data": {
            "text/html": [
              "\n",
              "  <div id=\"df-fea43b0a-486d-471a-83a3-82a9dee25d2e\">\n",
              "    <div class=\"colab-df-container\">\n",
              "      <div>\n",
              "<style scoped>\n",
              "    .dataframe tbody tr th:only-of-type {\n",
              "        vertical-align: middle;\n",
              "    }\n",
              "\n",
              "    .dataframe tbody tr th {\n",
              "        vertical-align: top;\n",
              "    }\n",
              "\n",
              "    .dataframe thead th {\n",
              "        text-align: right;\n",
              "    }\n",
              "</style>\n",
              "<table border=\"1\" class=\"dataframe\">\n",
              "  <thead>\n",
              "    <tr style=\"text-align: right;\">\n",
              "      <th></th>\n",
              "      <th>index</th>\n",
              "      <th>lon</th>\n",
              "      <th>startdate</th>\n",
              "      <th>contest-pevpr-sfc-gauss-14d__pevpr</th>\n",
              "      <th>nmme0-tmp2m-34w__nmme0mean</th>\n",
              "      <th>contest-wind-h10-14d__wind-hgt-10</th>\n",
              "      <th>nmme-tmp2m-56w__nmmemean</th>\n",
              "      <th>contest-rhum-sig995-14d__rhum</th>\n",
              "      <th>nmme-prate-34w__ccsm3</th>\n",
              "      <th>nmme-prate-34w__ccsm4</th>\n",
              "      <th>...</th>\n",
              "      <th>month</th>\n",
              "      <th>season</th>\n",
              "      <th>week</th>\n",
              "      <th>dayofyear</th>\n",
              "      <th>dayofyear_sin</th>\n",
              "      <th>dayofyear_cos</th>\n",
              "      <th>month_sin</th>\n",
              "      <th>month_cos</th>\n",
              "      <th>season_sin</th>\n",
              "      <th>season_cos</th>\n",
              "    </tr>\n",
              "  </thead>\n",
              "  <tbody>\n",
              "    <tr>\n",
              "      <th>0</th>\n",
              "      <td>375734</td>\n",
              "      <td>1.159198</td>\n",
              "      <td>2022-11-01</td>\n",
              "      <td>0.347231</td>\n",
              "      <td>1.59789</td>\n",
              "      <td>0.819078</td>\n",
              "      <td>2.001765</td>\n",
              "      <td>1.044448</td>\n",
              "      <td>-0.185206</td>\n",
              "      <td>0.710551</td>\n",
              "      <td>...</td>\n",
              "      <td>-1.01653</td>\n",
              "      <td>1.01653</td>\n",
              "      <td>-1.586021</td>\n",
              "      <td>-1.703886</td>\n",
              "      <td>-1.506288</td>\n",
              "      <td>-2.122550</td>\n",
              "      <td>-1.01653</td>\n",
              "      <td>-1.01653</td>\n",
              "      <td>-1.01653</td>\n",
              "      <td>-1.01653</td>\n",
              "    </tr>\n",
              "    <tr>\n",
              "      <th>1</th>\n",
              "      <td>375735</td>\n",
              "      <td>1.159198</td>\n",
              "      <td>2022-11-02</td>\n",
              "      <td>0.302370</td>\n",
              "      <td>1.59789</td>\n",
              "      <td>0.809402</td>\n",
              "      <td>2.001765</td>\n",
              "      <td>1.036774</td>\n",
              "      <td>-0.185206</td>\n",
              "      <td>0.710551</td>\n",
              "      <td>...</td>\n",
              "      <td>-1.01653</td>\n",
              "      <td>1.01653</td>\n",
              "      <td>-1.586021</td>\n",
              "      <td>-1.647089</td>\n",
              "      <td>-1.471497</td>\n",
              "      <td>-2.024335</td>\n",
              "      <td>-1.01653</td>\n",
              "      <td>-1.01653</td>\n",
              "      <td>-1.01653</td>\n",
              "      <td>-1.01653</td>\n",
              "    </tr>\n",
              "    <tr>\n",
              "      <th>2</th>\n",
              "      <td>375736</td>\n",
              "      <td>1.159198</td>\n",
              "      <td>2022-11-03</td>\n",
              "      <td>0.329714</td>\n",
              "      <td>1.59789</td>\n",
              "      <td>0.787662</td>\n",
              "      <td>2.001765</td>\n",
              "      <td>1.071657</td>\n",
              "      <td>-0.185206</td>\n",
              "      <td>0.710551</td>\n",
              "      <td>...</td>\n",
              "      <td>-1.01653</td>\n",
              "      <td>1.01653</td>\n",
              "      <td>-1.586021</td>\n",
              "      <td>-1.590293</td>\n",
              "      <td>-1.435726</td>\n",
              "      <td>-1.927164</td>\n",
              "      <td>-1.01653</td>\n",
              "      <td>-1.01653</td>\n",
              "      <td>-1.01653</td>\n",
              "      <td>-1.01653</td>\n",
              "    </tr>\n",
              "    <tr>\n",
              "      <th>3</th>\n",
              "      <td>375737</td>\n",
              "      <td>1.159198</td>\n",
              "      <td>2022-11-04</td>\n",
              "      <td>0.397903</td>\n",
              "      <td>1.59789</td>\n",
              "      <td>0.769890</td>\n",
              "      <td>2.001765</td>\n",
              "      <td>1.033286</td>\n",
              "      <td>-0.185206</td>\n",
              "      <td>0.710551</td>\n",
              "      <td>...</td>\n",
              "      <td>-1.01653</td>\n",
              "      <td>1.01653</td>\n",
              "      <td>-1.586021</td>\n",
              "      <td>-1.533497</td>\n",
              "      <td>-1.398988</td>\n",
              "      <td>-1.831065</td>\n",
              "      <td>-1.01653</td>\n",
              "      <td>-1.01653</td>\n",
              "      <td>-1.01653</td>\n",
              "      <td>-1.01653</td>\n",
              "    </tr>\n",
              "    <tr>\n",
              "      <th>4</th>\n",
              "      <td>375738</td>\n",
              "      <td>1.159198</td>\n",
              "      <td>2022-11-05</td>\n",
              "      <td>0.496854</td>\n",
              "      <td>1.59789</td>\n",
              "      <td>0.744264</td>\n",
              "      <td>2.001765</td>\n",
              "      <td>0.984449</td>\n",
              "      <td>-0.185206</td>\n",
              "      <td>0.710551</td>\n",
              "      <td>...</td>\n",
              "      <td>-1.01653</td>\n",
              "      <td>1.01653</td>\n",
              "      <td>-1.586021</td>\n",
              "      <td>-1.476701</td>\n",
              "      <td>-1.361291</td>\n",
              "      <td>-1.736065</td>\n",
              "      <td>-1.01653</td>\n",
              "      <td>-1.01653</td>\n",
              "      <td>-1.01653</td>\n",
              "      <td>-1.01653</td>\n",
              "    </tr>\n",
              "  </tbody>\n",
              "</table>\n",
              "<p>5 rows × 207 columns</p>\n",
              "</div>\n",
              "      <button class=\"colab-df-convert\" onclick=\"convertToInteractive('df-fea43b0a-486d-471a-83a3-82a9dee25d2e')\"\n",
              "              title=\"Convert this dataframe to an interactive table.\"\n",
              "              style=\"display:none;\">\n",
              "        \n",
              "  <svg xmlns=\"http://www.w3.org/2000/svg\" height=\"24px\"viewBox=\"0 0 24 24\"\n",
              "       width=\"24px\">\n",
              "    <path d=\"M0 0h24v24H0V0z\" fill=\"none\"/>\n",
              "    <path d=\"M18.56 5.44l.94 2.06.94-2.06 2.06-.94-2.06-.94-.94-2.06-.94 2.06-2.06.94zm-11 1L8.5 8.5l.94-2.06 2.06-.94-2.06-.94L8.5 2.5l-.94 2.06-2.06.94zm10 10l.94 2.06.94-2.06 2.06-.94-2.06-.94-.94-2.06-.94 2.06-2.06.94z\"/><path d=\"M17.41 7.96l-1.37-1.37c-.4-.4-.92-.59-1.43-.59-.52 0-1.04.2-1.43.59L10.3 9.45l-7.72 7.72c-.78.78-.78 2.05 0 2.83L4 21.41c.39.39.9.59 1.41.59.51 0 1.02-.2 1.41-.59l7.78-7.78 2.81-2.81c.8-.78.8-2.07 0-2.86zM5.41 20L4 18.59l7.72-7.72 1.47 1.35L5.41 20z\"/>\n",
              "  </svg>\n",
              "      </button>\n",
              "      \n",
              "  <style>\n",
              "    .colab-df-container {\n",
              "      display:flex;\n",
              "      flex-wrap:wrap;\n",
              "      gap: 12px;\n",
              "    }\n",
              "\n",
              "    .colab-df-convert {\n",
              "      background-color: #E8F0FE;\n",
              "      border: none;\n",
              "      border-radius: 50%;\n",
              "      cursor: pointer;\n",
              "      display: none;\n",
              "      fill: #1967D2;\n",
              "      height: 32px;\n",
              "      padding: 0 0 0 0;\n",
              "      width: 32px;\n",
              "    }\n",
              "\n",
              "    .colab-df-convert:hover {\n",
              "      background-color: #E2EBFA;\n",
              "      box-shadow: 0px 1px 2px rgba(60, 64, 67, 0.3), 0px 1px 3px 1px rgba(60, 64, 67, 0.15);\n",
              "      fill: #174EA6;\n",
              "    }\n",
              "\n",
              "    [theme=dark] .colab-df-convert {\n",
              "      background-color: #3B4455;\n",
              "      fill: #D2E3FC;\n",
              "    }\n",
              "\n",
              "    [theme=dark] .colab-df-convert:hover {\n",
              "      background-color: #434B5C;\n",
              "      box-shadow: 0px 1px 3px 1px rgba(0, 0, 0, 0.15);\n",
              "      filter: drop-shadow(0px 1px 2px rgba(0, 0, 0, 0.3));\n",
              "      fill: #FFFFFF;\n",
              "    }\n",
              "  </style>\n",
              "\n",
              "      <script>\n",
              "        const buttonEl =\n",
              "          document.querySelector('#df-fea43b0a-486d-471a-83a3-82a9dee25d2e button.colab-df-convert');\n",
              "        buttonEl.style.display =\n",
              "          google.colab.kernel.accessAllowed ? 'block' : 'none';\n",
              "\n",
              "        async function convertToInteractive(key) {\n",
              "          const element = document.querySelector('#df-fea43b0a-486d-471a-83a3-82a9dee25d2e');\n",
              "          const dataTable =\n",
              "            await google.colab.kernel.invokeFunction('convertToInteractive',\n",
              "                                                     [key], {});\n",
              "          if (!dataTable) return;\n",
              "\n",
              "          const docLinkHtml = 'Like what you see? Visit the ' +\n",
              "            '<a target=\"_blank\" href=https://colab.research.google.com/notebooks/data_table.ipynb>data table notebook</a>'\n",
              "            + ' to learn more about interactive tables.';\n",
              "          element.innerHTML = '';\n",
              "          dataTable['output_type'] = 'display_data';\n",
              "          await google.colab.output.renderOutput(dataTable, element);\n",
              "          const docLink = document.createElement('div');\n",
              "          docLink.innerHTML = docLinkHtml;\n",
              "          element.appendChild(docLink);\n",
              "        }\n",
              "      </script>\n",
              "    </div>\n",
              "  </div>\n",
              "  "
            ],
            "text/plain": [
              "    index       lon   startdate  contest-pevpr-sfc-gauss-14d__pevpr  \\\n",
              "0  375734  1.159198  2022-11-01                            0.347231   \n",
              "1  375735  1.159198  2022-11-02                            0.302370   \n",
              "2  375736  1.159198  2022-11-03                            0.329714   \n",
              "3  375737  1.159198  2022-11-04                            0.397903   \n",
              "4  375738  1.159198  2022-11-05                            0.496854   \n",
              "\n",
              "   nmme0-tmp2m-34w__nmme0mean  contest-wind-h10-14d__wind-hgt-10  \\\n",
              "0                     1.59789                           0.819078   \n",
              "1                     1.59789                           0.809402   \n",
              "2                     1.59789                           0.787662   \n",
              "3                     1.59789                           0.769890   \n",
              "4                     1.59789                           0.744264   \n",
              "\n",
              "   nmme-tmp2m-56w__nmmemean  contest-rhum-sig995-14d__rhum  \\\n",
              "0                  2.001765                       1.044448   \n",
              "1                  2.001765                       1.036774   \n",
              "2                  2.001765                       1.071657   \n",
              "3                  2.001765                       1.033286   \n",
              "4                  2.001765                       0.984449   \n",
              "\n",
              "   nmme-prate-34w__ccsm3  nmme-prate-34w__ccsm4  ...    month   season  \\\n",
              "0              -0.185206               0.710551  ... -1.01653  1.01653   \n",
              "1              -0.185206               0.710551  ... -1.01653  1.01653   \n",
              "2              -0.185206               0.710551  ... -1.01653  1.01653   \n",
              "3              -0.185206               0.710551  ... -1.01653  1.01653   \n",
              "4              -0.185206               0.710551  ... -1.01653  1.01653   \n",
              "\n",
              "       week  dayofyear  dayofyear_sin  dayofyear_cos  month_sin  month_cos  \\\n",
              "0 -1.586021  -1.703886      -1.506288      -2.122550   -1.01653   -1.01653   \n",
              "1 -1.586021  -1.647089      -1.471497      -2.024335   -1.01653   -1.01653   \n",
              "2 -1.586021  -1.590293      -1.435726      -1.927164   -1.01653   -1.01653   \n",
              "3 -1.586021  -1.533497      -1.398988      -1.831065   -1.01653   -1.01653   \n",
              "4 -1.586021  -1.476701      -1.361291      -1.736065   -1.01653   -1.01653   \n",
              "\n",
              "   season_sin  season_cos  \n",
              "0    -1.01653    -1.01653  \n",
              "1    -1.01653    -1.01653  \n",
              "2    -1.01653    -1.01653  \n",
              "3    -1.01653    -1.01653  \n",
              "4    -1.01653    -1.01653  \n",
              "\n",
              "[5 rows x 207 columns]"
            ]
          },
          "execution_count": 4,
          "metadata": {},
          "output_type": "execute_result"
        }
      ],
      "source": [
        "# Reading the clean test dataset\n",
        "# test_df = pd.read_csv('/kaggle/input/widsdatathon2023/test_data.csv') \n",
        "test_df = pd.read_csv(\"data/clean_test.csv\")\n",
        "print(f'The shape of the dataset is: {test_df.shape}')\n",
        "test_df.head()"
      ]
    },
    {
      "cell_type": "markdown",
      "metadata": {
        "id": "gjYxbMI5Tqzj"
      },
      "source": [
        "# Modelling"
      ]
    },
    {
      "cell_type": "markdown",
      "metadata": {
        "id": "m6O7xNQBzZic"
      },
      "source": [
        "## Splitting the train dataset"
      ]
    },
    {
      "cell_type": "code",
      "execution_count": null,
      "metadata": {
        "colab": {
          "base_uri": "https://localhost:8080/"
        },
        "id": "9UNFwAK6UITj",
        "outputId": "99d14fab-1e33-4e3d-9f9f-e629b76b8eb4"
      },
      "outputs": [
        {
          "name": "stdout",
          "output_type": "stream",
          "text": [
            "(375734, 205)\n",
            "(31354, 205)\n"
          ]
        }
      ],
      "source": [
        "# Select main columns to be used in training\n",
        "main_cols = train_df.columns.difference(['index', 'contest-tmp2m-14d__tmp2m', 'startdate'])\n",
        "X = train_df[main_cols]\n",
        "y = train_df['contest-tmp2m-14d__tmp2m']\n",
        "test_X = test_df.drop(['index', 'startdate'], axis=1)\n",
        "\n",
        "print(X.shape)\n",
        "print(test_X.shape)"
      ]
    },
    {
      "cell_type": "code",
      "execution_count": null,
      "metadata": {
        "id": "DuzSxnylfBrW"
      },
      "outputs": [],
      "source": [
        "# Split the data into training and validation sets\n",
        "X_train, X_valid, y_train, y_valid = train_test_split(X, y, test_size=0.2, random_state=42)"
      ]
    },
    {
      "cell_type": "markdown",
      "metadata": {
        "id": "msql1cpqYnoT"
      },
      "source": [
        "**Scaling**\n",
        "<br>\n",
        "- Before moving on it is key to note that it is crucial to split the data before performing any further transformations such as scaling the data because we want to prevent any information about the test set to spill over into our training and validation set. \n",
        "- Data scaling is often done using statistics about the data set as a whole, such as mean and standard deviation. Because we want to be able to measure how well our Machine Learning models perform on data they have never seen before we have to make sure that no information from the test data impacts how the scaling or any other transformation is done."
      ]
    },
    {
      "cell_type": "code",
      "execution_count": null,
      "metadata": {
        "colab": {
          "base_uri": "https://localhost:8080/"
        },
        "id": "W4zpRhMpYofG",
        "outputId": "a8655a78-c2f1-4ae2-ec43-247ad0ef2c81"
      },
      "outputs": [
        {
          "name": "stderr",
          "output_type": "stream",
          "text": [
            "/usr/local/lib/python3.8/dist-packages/sklearn/base.py:493: FutureWarning: The feature names should match those that were passed during fit. Starting version 1.2, an error will be raised.\n",
            "Feature names must be in the same order as they were in fit.\n",
            "\n",
            "  warnings.warn(message, FutureWarning)\n"
          ]
        },
        {
          "data": {
            "text/plain": [
              "array([[ 0.61362101,  0.56413182,  0.84827846, ...,  0.22782634,\n",
              "         0.15483636,  0.156576  ],\n",
              "       [ 0.61362101,  0.54891599,  0.84827846, ...,  0.22782634,\n",
              "         0.15483636,  0.156576  ],\n",
              "       [ 0.61362101,  0.5581904 ,  0.84827846, ...,  0.22782634,\n",
              "         0.15483636,  0.156576  ],\n",
              "       ...,\n",
              "       [ 0.64421083, -0.21804863, -0.3144378 , ...,  0.67806202,\n",
              "         0.79784147,  0.78844544],\n",
              "       [ 0.64421083, -0.18961677, -0.3144378 , ...,  0.67806202,\n",
              "         0.79784147,  0.78844544],\n",
              "       [ 0.64421083, -0.17118389, -0.3144378 , ...,  0.67806202,\n",
              "         0.79784147,  0.78844544]])"
            ]
          },
          "execution_count": 7,
          "metadata": {},
          "output_type": "execute_result"
        }
      ],
      "source": [
        "# Create the scaler with object range of 0-1\n",
        "scaler = MinMaxScaler()\n",
        "\n",
        "# Fit and transform using the training data\n",
        "scaler.fit_transform(X_train)\n",
        "\n",
        "# Transform the validation and test features\n",
        "scaler.transform(X_valid)\n",
        "scaler.transform(test_X)"
      ]
    },
    {
      "cell_type": "markdown",
      "metadata": {
        "id": "W-VD2SGWT4oT"
      },
      "source": [
        "## Training"
      ]
    },
    {
      "cell_type": "markdown",
      "metadata": {
        "id": "4akVbUtPZjO1"
      },
      "source": [
        "**Scoring**\n",
        "<br>\n",
        "- For regression problems there are many different measures of performance thoough in this competition we will mainly use Root Mean Squared Error as it is the scoring mteric used. We will other metrics to keep track of model performance as well. \n",
        "- Additionally, we compute an accuracy of the predictions of the models. Accuracy is typically used as a performance measure in classification problems and not regression problems because it refers to the proportion of correct predictions that the model makes. \n",
        "- The way we use accuracy for the regression models in this analysis is different. Accuracy for the regression models is a measure of how far off (in percentage terms) the predicted Temperature will be from the actual Temperature, on average. "
      ]
    },
    {
      "cell_type": "code",
      "execution_count": null,
      "metadata": {
        "id": "eWDBxmCcZ2FN"
      },
      "outputs": [],
      "source": [
        "def scoring(model, test_features, test_labels):\n",
        "    predictions = model.predict(test_features)\n",
        "    mae = mean_absolute_error(test_labels, predictions)\n",
        "    mse = mean_squared_error(test_labels, predictions)\n",
        "    rmse = np.sqrt(mse)\n",
        "    r2 = r2_score(test_labels, predictions)\n",
        "    errors = abs(predictions - test_labels)\n",
        "    mape = 100 * np.mean(errors / test_labels)\n",
        "    accuracy = 100 - mape\n",
        "    print('Model Performance')\n",
        "    print('Mean Absolute Error: {:0.4f}.'.format(mae))\n",
        "    print('Mean Squared Error: {:0.4f}.'.format(mse))\n",
        "    print('Root Mean Squared Error: {:0.4f}.'.format(rmse))\n",
        "    print('R^2 Score = {:0.4f}.'.format(r2))\n",
        "    print('Accuracy = {:0.2f}%.'.format(accuracy))"
      ]
    },
    {
      "cell_type": "markdown",
      "metadata": {
        "id": "1QUocR97aL1G"
      },
      "source": [
        "## Baseline Performance"
      ]
    },
    {
      "cell_type": "code",
      "execution_count": null,
      "metadata": {
        "colab": {
          "base_uri": "https://localhost:8080/"
        },
        "id": "t-Qw3qdIaOhk",
        "outputId": "7022d5cb-68a0-4dda-dbc9-83516a25c3d8"
      },
      "outputs": [
        {
          "name": "stdout",
          "output_type": "stream",
          "text": [
            "Model Performance\n",
            "Mean Absolute Error: 8.1183.\n",
            "Mean Squared Error: 97.7671.\n",
            "Root Mean Squared Error: 9.8877.\n",
            "R^2 Score = -0.0024.\n",
            "Accuracy = 22.99%.\n"
          ]
        }
      ],
      "source": [
        "# Create list of median predictions that has the same length as y_valid\n",
        "baseline_y = [y_train.median()] * len(y_valid)\n",
        "\n",
        "# Compute the relevant scores\n",
        "base_predictions = baseline_y\n",
        "base_mae = mean_absolute_error(y_valid, base_predictions)\n",
        "base_mse = mean_squared_error(y_valid, base_predictions)\n",
        "base_rmse = np.sqrt(base_mse)\n",
        "base_r2 = r2_score(y_valid, base_predictions)\n",
        "base_errors = abs(base_predictions - y_valid)\n",
        "base_mape = 100 * np.mean(base_errors / y_valid)\n",
        "base_accuracy = 100 - base_mape\n",
        "\n",
        "print('Model Performance')\n",
        "print('Mean Absolute Error: {:0.4f}.'.format(base_mae))\n",
        "print('Mean Squared Error: {:0.4f}.'.format(base_mse))\n",
        "print('Root Mean Squared Error: {:0.4f}.'.format(base_rmse))\n",
        "print('R^2 Score = {:0.4f}.'.format(base_r2))\n",
        "print('Accuracy = {:0.2f}%.'.format(base_accuracy))"
      ]
    },
    {
      "cell_type": "markdown",
      "metadata": {
        "id": "-ho_-yreal0s"
      },
      "source": [
        "**Observations**\n",
        "- Both the R-squared and accuracy are negative, which is a strong indication of extremely poor model performance.\n",
        "- Hopefully our model strongly outperforms this\n",
        "\n",
        "Before we move on to our model let’s first select the features that we want to use in those models."
      ]
    },
    {
      "cell_type": "markdown",
      "metadata": {
        "id": "qJQ7xAWnbJPp"
      },
      "source": [
        "## Feature Selection using Lasso Regression"
      ]
    },
    {
      "cell_type": "markdown",
      "metadata": {
        "id": "IMW-DTlsbN_i"
      },
      "source": [
        "**Exaplanation**\n",
        "<br>\n",
        "- Fitting a linear regression minimises a loss function by choosing coefficients for each feature variable. \n",
        "- One problem with that is that large coefficients can lead to overfitting, meaning that the model will perform well on the training data but poorly on data it has never seen before. This is where regularisation comes in.\n",
        "- Lasso Regression is a type of regularisation regression that penalises the absolute size of the regression coefficients through an additional term in the loss function."
      ]
    },
    {
      "cell_type": "code",
      "execution_count": null,
      "metadata": {
        "colab": {
          "base_uri": "https://localhost:8080/",
          "height": 123
        },
        "id": "ifsg7OKybNPZ",
        "outputId": "58af3005-95cf-4eac-841e-c139edf836e6"
      },
      "outputs": [
        {
          "data": {
            "text/plain": [
              "Text(0, 0.5, 'Coefficients')"
            ]
          },
          "execution_count": 10,
          "metadata": {},
          "output_type": "execute_result"
        },
        {
          "data": {
            "image/png": "[encoded data removed]",
            "text/plain": [
              "<Figure size 2520x432 with 1 Axes>"
            ]
          },
          "metadata": {},
          "output_type": "display_data"
        }
      ],
      "source": [
        "# Create the model\n",
        "lasso = Lasso(alpha=0.1)\n",
        "\n",
        "# Fit the model to the training data\n",
        "lasso.fit(X_train, y_train)\n",
        "\n",
        "# Extract the coefficients\n",
        "lasso_coef = lasso.coef_\n",
        "\n",
        "# Plot the coefficients\n",
        "plt.figure(figsize=(35, 6))\n",
        "plt.plot(range(len(X_train.columns)), lasso_coef)\n",
        "plt.xticks(range(len(X_train.columns)), X_train.columns, rotation=60)\n",
        "plt.axhline(0.0, linestyle='--', color='r')\n",
        "plt.ylabel('Coefficients')"
      ]
    },
    {
      "cell_type": "markdown",
      "metadata": {
        "id": "898-0eX5bktq"
      },
      "source": [
        "**Observations**\n",
        "<br>\n",
        "- Coefficients that are zero indicate that the corresponding feature is not important: When the Lasso algorithm shrinks the coefficient of a feature to zero, it effectively removes that feature from the model. \n",
        "- This means that features with coefficients of zero can be safely ignored, as they are not contributing to the model."
      ]
    },
    {
      "cell_type": "code",
      "execution_count": null,
      "metadata": {
        "colab": {
          "base_uri": "https://localhost:8080/"
        },
        "id": "ircAFMOSk1ak",
        "outputId": "b727ec46-0235-4a69-9ff7-6a97bcab4683"
      },
      "outputs": [
        {
          "name": "stdout",
          "output_type": "stream",
          "text": [
            "161\n",
            "['contest-pevpr-sfc-gauss-14d__pevpr' 'contest-pres-sfc-gauss-14d__pres'\n",
            " 'contest-wind-h10-14d__wind-hgt-10' 'contest-wind-h100-14d__wind-hgt-100'\n",
            " 'contest-wind-vwnd-250-14d__wind-vwnd-250' 'dayofyear' 'dayofyear_cos'\n",
            " 'dayofyear_sin' 'icec-2010-1' 'icec-2010-10' 'icec-2010-2' 'icec-2010-3'\n",
            " 'icec-2010-4' 'icec-2010-5' 'icec-2010-6' 'icec-2010-9' 'mei__mei'\n",
            " 'mei__meirank' 'mjo1d__amplitude' 'mjo1d__phase' 'month' 'month_cos'\n",
            " 'nmme-prate-34w__ccsm3' 'nmme-prate-34w__ccsm4'\n",
            " 'nmme-prate-34w__gfdlflora' 'nmme-prate-34w__gfdlflorb'\n",
            " 'nmme-prate-56w__ccsm3' 'nmme-prate-56w__ccsm4' 'nmme-prate-56w__cfsv2'\n",
            " 'nmme-prate-56w__gfdl' 'nmme-prate-56w__gfdlflora'\n",
            " 'nmme-prate-56w__gfdlflorb' 'nmme-prate-56w__nasa'\n",
            " 'nmme-prate-56w__nmmemean' 'nmme-tmp2m-34w__ccsm3'\n",
            " 'nmme0-prate-34w__cancm30' 'nmme0-prate-34w__cancm40'\n",
            " 'nmme0-prate-34w__ccsm30' 'nmme0-prate-34w__ccsm40'\n",
            " 'nmme0-prate-34w__cfsv20' 'nmme0-prate-34w__gfdl0'\n",
            " 'nmme0-prate-34w__gfdlflorb0' 'nmme0-prate-34w__nasa0'\n",
            " 'nmme0-prate-34w__nmme0mean' 'nmme0-prate-56w__cancm30'\n",
            " 'nmme0-prate-56w__cancm40' 'nmme0-prate-56w__ccsm30'\n",
            " 'nmme0-prate-56w__ccsm40' 'nmme0-prate-56w__cfsv20'\n",
            " 'nmme0-prate-56w__gfdl0' 'nmme0-prate-56w__gfdlflorb0'\n",
            " 'nmme0-prate-56w__nasa0' 'nmme0-prate-56w__nmme0mean'\n",
            " 'nmme0-tmp2m-34w__nmme0mean' 'nmme0mean' 'season' 'season_cos'\n",
            " 'season_sin' 'sst-2010-1' 'sst-2010-10' 'sst-2010-2' 'sst-2010-3'\n",
            " 'sst-2010-4' 'sst-2010-6' 'sst-2010-7' 'sst-2010-8' 'sst-2010-9' 'week'\n",
            " 'wind-hgt-10-2010-10' 'wind-hgt-10-2010-2' 'wind-hgt-10-2010-3'\n",
            " 'wind-hgt-10-2010-4' 'wind-hgt-10-2010-5' 'wind-hgt-10-2010-8'\n",
            " 'wind-hgt-10-2010-9' 'wind-hgt-100-2010-10' 'wind-hgt-100-2010-2'\n",
            " 'wind-hgt-100-2010-3' 'wind-hgt-100-2010-4' 'wind-hgt-100-2010-5'\n",
            " 'wind-hgt-100-2010-6' 'wind-hgt-100-2010-9' 'wind-hgt-500-2010-10'\n",
            " 'wind-hgt-500-2010-2' 'wind-hgt-500-2010-3' 'wind-hgt-500-2010-4'\n",
            " 'wind-hgt-500-2010-5' 'wind-hgt-500-2010-6' 'wind-hgt-500-2010-7'\n",
            " 'wind-hgt-500-2010-8' 'wind-hgt-500-2010-9' 'wind-hgt-850-2010-1'\n",
            " 'wind-hgt-850-2010-10' 'wind-hgt-850-2010-2' 'wind-hgt-850-2010-3'\n",
            " 'wind-hgt-850-2010-5' 'wind-hgt-850-2010-6' 'wind-hgt-850-2010-7'\n",
            " 'wind-hgt-850-2010-8' 'wind-uwnd-250-2010-11' 'wind-uwnd-250-2010-12'\n",
            " 'wind-uwnd-250-2010-13' 'wind-uwnd-250-2010-14' 'wind-uwnd-250-2010-15'\n",
            " 'wind-uwnd-250-2010-17' 'wind-uwnd-250-2010-18' 'wind-uwnd-250-2010-2'\n",
            " 'wind-uwnd-250-2010-20' 'wind-uwnd-250-2010-3' 'wind-uwnd-250-2010-4'\n",
            " 'wind-uwnd-250-2010-5' 'wind-uwnd-250-2010-8' 'wind-uwnd-925-2010-10'\n",
            " 'wind-uwnd-925-2010-11' 'wind-uwnd-925-2010-12' 'wind-uwnd-925-2010-13'\n",
            " 'wind-uwnd-925-2010-14' 'wind-uwnd-925-2010-15' 'wind-uwnd-925-2010-16'\n",
            " 'wind-uwnd-925-2010-17' 'wind-uwnd-925-2010-18' 'wind-uwnd-925-2010-19'\n",
            " 'wind-uwnd-925-2010-2' 'wind-uwnd-925-2010-3' 'wind-uwnd-925-2010-4'\n",
            " 'wind-uwnd-925-2010-5' 'wind-uwnd-925-2010-6' 'wind-uwnd-925-2010-7'\n",
            " 'wind-uwnd-925-2010-8' 'wind-uwnd-925-2010-9' 'wind-vwnd-250-2010-1'\n",
            " 'wind-vwnd-250-2010-10' 'wind-vwnd-250-2010-12' 'wind-vwnd-250-2010-14'\n",
            " 'wind-vwnd-250-2010-15' 'wind-vwnd-250-2010-17' 'wind-vwnd-250-2010-19'\n",
            " 'wind-vwnd-250-2010-2' 'wind-vwnd-250-2010-20' 'wind-vwnd-250-2010-4'\n",
            " 'wind-vwnd-250-2010-5' 'wind-vwnd-250-2010-6' 'wind-vwnd-250-2010-7'\n",
            " 'wind-vwnd-250-2010-8' 'wind-vwnd-925-2010-1' 'wind-vwnd-925-2010-10'\n",
            " 'wind-vwnd-925-2010-12' 'wind-vwnd-925-2010-13' 'wind-vwnd-925-2010-14'\n",
            " 'wind-vwnd-925-2010-15' 'wind-vwnd-925-2010-16' 'wind-vwnd-925-2010-17'\n",
            " 'wind-vwnd-925-2010-19' 'wind-vwnd-925-2010-2' 'wind-vwnd-925-2010-20'\n",
            " 'wind-vwnd-925-2010-3' 'wind-vwnd-925-2010-4' 'wind-vwnd-925-2010-5'\n",
            " 'wind-vwnd-925-2010-6' 'wind-vwnd-925-2010-7' 'wind-vwnd-925-2010-9']\n"
          ]
        }
      ],
      "source": [
        "# Get an array of the column names where the coefficient is equal to zero\n",
        "zero_coef = np.abs(lasso.coef_) == 0\n",
        "zero_coef_cols = np.array(list(X.columns))[zero_coef]\n",
        "\n",
        "print(len(zero_coef_cols))\n",
        "print(zero_coef_cols)"
      ]
    },
    {
      "cell_type": "code",
      "execution_count": null,
      "metadata": {
        "colab": {
          "base_uri": "https://localhost:8080/"
        },
        "id": "_4wyrCqebjdG",
        "outputId": "f063ba4e-7791-4d52-abe9-f50564aa3030"
      },
      "outputs": [
        {
          "name": "stdout",
          "output_type": "stream",
          "text": [
            "(300587, 44)\n",
            "(75147, 44)\n",
            "(31354, 44)\n"
          ]
        }
      ],
      "source": [
        "# Drop these columns from training, validation and test data\n",
        "X_train.drop(columns=zero_coef_cols, inplace=True)\n",
        "X_valid.drop(columns=zero_coef_cols, inplace=True)\n",
        "test_X.drop(columns=zero_coef_cols, inplace=True)\n",
        "\n",
        "print(X_train.shape)\n",
        "print(X_valid.shape)\n",
        "print(test_X.shape)"
      ]
    },
    {
      "cell_type": "code",
      "execution_count": null,
      "metadata": {
        "id": "VVluzuj33_nY"
      },
      "outputs": [],
      "source": [
        "# Reset the indices of the DataFrame\n",
        "X_train = X_train.reset_index(drop=True)\n",
        "X_valid = X_valid.reset_index(drop=True)\n",
        "test_X = test_X.reset_index(drop=True)"
      ]
    },
    {
      "cell_type": "markdown",
      "metadata": {
        "id": "Dsdms5y5rkyf"
      },
      "source": [
        "## Gradient Boost Regressor\n"
      ]
    },
    {
      "cell_type": "code",
      "execution_count": null,
      "metadata": {
        "colab": {
          "background_save": true
        },
        "id": "QTS9VDdMUITl",
        "outputId": "8d9a7d16-27cb-48d9-99db-48beb5ccb6e9"
      },
      "outputs": [
        {
          "name": "stdout",
          "output_type": "stream",
          "text": [
            "Fold 1 RMSE score: 2.1325\n"
          ]
        }
      ],
      "source": [
        "# Initialize the model\n",
        "gbr = GradientBoostingRegressor(\n",
        "    n_estimators=2500,\n",
        "    learning_rate=0.01,\n",
        "    max_depth=4,\n",
        "    min_samples_split=10,\n",
        "    min_samples_leaf=5,\n",
        "    max_features='sqrt',\n",
        "    subsample=0.8\n",
        ")\n",
        "\n",
        "# Split the training data into folds\n",
        "kf = KFold(n_splits=5, shuffle=True, random_state=42)\n",
        "\n",
        "# Loop over the folds and train the model on each fold\n",
        "for fold_idx, (train_idx, val_idx) in enumerate(kf.split(X_train, y_train)):\n",
        "    # Split the data into training and validation sets for this fold\n",
        "    X_fold_train, y_fold_train = X_train.iloc[train_idx], y_train.iloc[train_idx]\n",
        "    X_fold_val, y_fold_val = X_train.iloc[val_idx], y_train.iloc[val_idx]\n",
        "\n",
        "    # Train the model on the training data for this fold\n",
        "    gbr.fit(X_fold_train, y_fold_train)\n",
        "\n",
        "    # Compute the RMSE score on the validation data for this fold\n",
        "    y_pred_val = gbr.predict(X_fold_val)\n",
        "    rmse = np.sqrt(mean_squared_error(y_fold_val, y_pred_val))\n",
        "\n",
        "    # Print the RMSE score for this fold\n",
        "    print(f\"Fold {fold_idx+1} RMSE score: {rmse:.4f}\")"
      ]
    },
    {
      "cell_type": "markdown",
      "metadata": {
        "id": "HkPPq6YJygXE"
      },
      "source": [
        "# Making the Baseline Submission"
      ]
    },
    {
      "cell_type": "code",
      "execution_count": null,
      "metadata": {
        "id": "omP5ncUVm3nd"
      },
      "outputs": [],
      "source": [
        "# submission = pd.read_csv('/kaggle/input/widsdatathon2023/sample_solution.csv') \n",
        "submission = pd.read_csv('data/sample_solution.csv')\n",
        "submission.head()"
      ]
    },
    {
      "cell_type": "code",
      "execution_count": null,
      "metadata": {
        "id": "kDXLLDN-m3ne"
      },
      "outputs": [],
      "source": [
        "X_train.head()"
      ]
    },
    {
      "cell_type": "code",
      "execution_count": null,
      "metadata": {
        "id": "znYYBF1RB8qp"
      },
      "outputs": [],
      "source": [
        "test_X.head()"
      ]
    },
    {
      "cell_type": "code",
      "execution_count": null,
      "metadata": {
        "id": "jH2rLaESCZIU"
      },
      "outputs": [],
      "source": [
        "train_cols = X_train.columns.tolist()\n",
        "\n",
        "# Reindex the test dataset to match the column order of the train dataset\n",
        "test_X = test_X.reindex(columns=train_cols)\n",
        "\n",
        "test_X.head()"
      ]
    },
    {
      "cell_type": "code",
      "execution_count": null,
      "metadata": {
        "id": "AM8MJ7-sAvLb"
      },
      "outputs": [],
      "source": [
        "submission['contest-tmp2m-14d__tmp2m'] = gbr.predict(test_X)\n",
        "submission"
      ]
    },
    {
      "cell_type": "code",
      "execution_count": null,
      "metadata": {
        "id": "3CujAALOm3nf"
      },
      "outputs": [],
      "source": [
        "submission.to_csv('submission_grb.csv', index = False) "
      ]
    },
    {
      "cell_type": "markdown",
      "metadata": {
        "id": "On_86awdcHMr"
      },
      "source": [
        "# Resources\n",
        "- [Part 2 : Using Machine Learning to Predict Fitbit Sleep Scores](https://towardsdatascience.com/using-machine-learning-to-predict-fitbit-sleep-scores-496a7d9ec48)\n",
        "- [Part 3 : Cross-Validation and Hyperparameter Tuning: How to Optimise your Machine Learning Model](https://towardsdatascience.com/cross-validation-and-hyperparameter-tuning-how-to-optimise-your-machine-learning-model-13f005af9d7d)"
      ]
    }
  ],
  "metadata": {
    "accelerator": "GPU",
    "colab": {
      "provenance": [],
      "toc_visible": true
    },
    "gpuClass": "standard",
    "kernelspec": {
      "display_name": "Python 3",
      "name": "python3"
    },
    "language_info": {
      "name": "python"
    }
  },
  "nbformat": 4,
  "nbformat_minor": 0
}
