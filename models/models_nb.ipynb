{
  "cells": [
    {
      "cell_type": "markdown",
      "metadata": {
        "id": "HlIcpaKaSSBe"
      },
      "source": [
        "# WiDS Datathon 2023\n",
        "\n",
        "The purpose of this notebook is to run differnet regressor model experiements on our cleaned data from the preprocessor notebook.\n",
        "___"
      ]
    },
    {
      "cell_type": "markdown",
      "metadata": {
        "id": "4ICTX0StSoyp"
      },
      "source": [
        "# Importing Libraries"
      ]
    },
    {
      "cell_type": "code",
      "execution_count": null,
      "metadata": {
        "id": "NAgK2jlVSQZ2"
      },
      "outputs": [],
      "source": [
        "import pandas as pd\n",
        "import numpy as np\n",
        "import seaborn as sns\n",
        "import matplotlib.pyplot as plt\n",
        "\n",
        "# Regression Libraries libraries\n",
        "from sklearn.ensemble import RandomForestRegressor\n",
        "from xgboost import XGBRegressor\n",
        "from sklearn. linear_model import Lasso, LinearRegression\n",
        "\n",
        "# Other ML Librariesx\n",
        "from sklearn.model_selection import train_test_split\n",
        "from sklearn import preprocessing, model_selection\n",
        "from sklearn.preprocessing import MinMaxScaler\n",
        "from sklearn.model_selection import RandomizedSearchCV\n",
        "from sklearn.metrics import mean_squared_error, r2_score, mean_absolute_error\n",
        "from sklearn.model_selection import cross_val_score"
      ]
    },
    {
      "cell_type": "markdown",
      "metadata": {
        "id": "o0syYyshUISJ"
      },
      "source": [
        "# Reading data\n",
        "___"
      ]
    },
    {
      "cell_type": "code",
      "execution_count": null,
      "metadata": {
        "colab": {
          "base_uri": "https://localhost:8080/",
          "height": 370
        },
        "id": "xsEgNHt7UISM",
        "outputId": "1c76d81b-1dfe-4807-cbbb-ac3641854f64"
      },
      "outputs": [
        {
          "name": "stdout",
          "output_type": "stream",
          "text": [
            "The shape of the dataset is: (375734, 208)\n"
          ]
        },
        {
          "data": {
            "text/html": [
              "\n",
              "  <div id=\"df-48ebf678-861d-4dfc-a77e-4c7dba8db817\">\n",
              "    <div class=\"colab-df-container\">\n",
              "      <div>\n",
              "<style scoped>\n",
              "    .dataframe tbody tr th:only-of-type {\n",
              "        vertical-align: middle;\n",
              "    }\n",
              "\n",
              "    .dataframe tbody tr th {\n",
              "        vertical-align: top;\n",
              "    }\n",
              "\n",
              "    .dataframe thead th {\n",
              "        text-align: right;\n",
              "    }\n",
              "</style>\n",
              "<table border=\"1\" class=\"dataframe\">\n",
              "  <thead>\n",
              "    <tr style=\"text-align: right;\">\n",
              "      <th></th>\n",
              "      <th>index</th>\n",
              "      <th>lon</th>\n",
              "      <th>startdate</th>\n",
              "      <th>contest-pevpr-sfc-gauss-14d__pevpr</th>\n",
              "      <th>nmme0-tmp2m-34w__nmme0mean</th>\n",
              "      <th>contest-wind-h10-14d__wind-hgt-10</th>\n",
              "      <th>nmme-tmp2m-56w__nmmemean</th>\n",
              "      <th>contest-rhum-sig995-14d__rhum</th>\n",
              "      <th>nmme-prate-34w__ccsm3</th>\n",
              "      <th>nmme-prate-34w__ccsm4</th>\n",
              "      <th>...</th>\n",
              "      <th>month</th>\n",
              "      <th>season</th>\n",
              "      <th>week</th>\n",
              "      <th>dayofyear</th>\n",
              "      <th>dayofyear_sin</th>\n",
              "      <th>dayofyear_cos</th>\n",
              "      <th>month_sin</th>\n",
              "      <th>month_cos</th>\n",
              "      <th>season_sin</th>\n",
              "      <th>season_cos</th>\n",
              "    </tr>\n",
              "  </thead>\n",
              "  <tbody>\n",
              "    <tr>\n",
              "      <th>0</th>\n",
              "      <td>0</td>\n",
              "      <td>1.159198</td>\n",
              "      <td>2014-09-01</td>\n",
              "      <td>-0.178921</td>\n",
              "      <td>1.793646</td>\n",
              "      <td>0.558364</td>\n",
              "      <td>1.579199</td>\n",
              "      <td>1.089301</td>\n",
              "      <td>-0.844543</td>\n",
              "      <td>-0.183074</td>\n",
              "      <td>...</td>\n",
              "      <td>0.718982</td>\n",
              "      <td>1.343489</td>\n",
              "      <td>0.611932</td>\n",
              "      <td>0.578406</td>\n",
              "      <td>-1.230657</td>\n",
              "      <td>-0.692304</td>\n",
              "      <td>-1.410729</td>\n",
              "      <td>0.00238</td>\n",
              "      <td>-1.417124</td>\n",
              "      <td>0.005808</td>\n",
              "    </tr>\n",
              "    <tr>\n",
              "      <th>1</th>\n",
              "      <td>1</td>\n",
              "      <td>1.159198</td>\n",
              "      <td>2014-09-02</td>\n",
              "      <td>-0.224783</td>\n",
              "      <td>1.793646</td>\n",
              "      <td>0.552312</td>\n",
              "      <td>1.579199</td>\n",
              "      <td>1.137578</td>\n",
              "      <td>-0.844543</td>\n",
              "      <td>-0.183074</td>\n",
              "      <td>...</td>\n",
              "      <td>0.718982</td>\n",
              "      <td>1.343489</td>\n",
              "      <td>0.611932</td>\n",
              "      <td>0.587901</td>\n",
              "      <td>-1.242399</td>\n",
              "      <td>-0.670973</td>\n",
              "      <td>-1.410729</td>\n",
              "      <td>0.00238</td>\n",
              "      <td>-1.417124</td>\n",
              "      <td>0.005808</td>\n",
              "    </tr>\n",
              "    <tr>\n",
              "      <th>2</th>\n",
              "      <td>2</td>\n",
              "      <td>1.159198</td>\n",
              "      <td>2014-09-03</td>\n",
              "      <td>-0.271269</td>\n",
              "      <td>1.793646</td>\n",
              "      <td>0.534287</td>\n",
              "      <td>1.579199</td>\n",
              "      <td>1.179532</td>\n",
              "      <td>-0.844543</td>\n",
              "      <td>-0.183074</td>\n",
              "      <td>...</td>\n",
              "      <td>0.718982</td>\n",
              "      <td>1.343489</td>\n",
              "      <td>0.611932</td>\n",
              "      <td>0.597396</td>\n",
              "      <td>-1.253772</td>\n",
              "      <td>-0.649443</td>\n",
              "      <td>-1.410729</td>\n",
              "      <td>0.00238</td>\n",
              "      <td>-1.417124</td>\n",
              "      <td>0.005808</td>\n",
              "    </tr>\n",
              "    <tr>\n",
              "      <th>3</th>\n",
              "      <td>3</td>\n",
              "      <td>1.159198</td>\n",
              "      <td>2014-09-04</td>\n",
              "      <td>-0.245280</td>\n",
              "      <td>1.793646</td>\n",
              "      <td>0.513318</td>\n",
              "      <td>1.579199</td>\n",
              "      <td>1.177808</td>\n",
              "      <td>-0.844543</td>\n",
              "      <td>-0.183074</td>\n",
              "      <td>...</td>\n",
              "      <td>0.718982</td>\n",
              "      <td>1.343489</td>\n",
              "      <td>0.611932</td>\n",
              "      <td>0.606891</td>\n",
              "      <td>-1.264774</td>\n",
              "      <td>-0.627721</td>\n",
              "      <td>-1.410729</td>\n",
              "      <td>0.00238</td>\n",
              "      <td>-1.417124</td>\n",
              "      <td>0.005808</td>\n",
              "    </tr>\n",
              "    <tr>\n",
              "      <th>4</th>\n",
              "      <td>4</td>\n",
              "      <td>1.159198</td>\n",
              "      <td>2014-09-05</td>\n",
              "      <td>-0.177562</td>\n",
              "      <td>1.793646</td>\n",
              "      <td>0.491401</td>\n",
              "      <td>1.579199</td>\n",
              "      <td>1.134129</td>\n",
              "      <td>-0.844543</td>\n",
              "      <td>-0.183074</td>\n",
              "      <td>...</td>\n",
              "      <td>0.718982</td>\n",
              "      <td>1.343489</td>\n",
              "      <td>0.611932</td>\n",
              "      <td>0.616386</td>\n",
              "      <td>-1.275400</td>\n",
              "      <td>-0.605812</td>\n",
              "      <td>-1.410729</td>\n",
              "      <td>0.00238</td>\n",
              "      <td>-1.417124</td>\n",
              "      <td>0.005808</td>\n",
              "    </tr>\n",
              "  </tbody>\n",
              "</table>\n",
              "<p>5 rows × 208 columns</p>\n",
              "</div>\n",
              "      <button class=\"colab-df-convert\" onclick=\"convertToInteractive('df-48ebf678-861d-4dfc-a77e-4c7dba8db817')\"\n",
              "              title=\"Convert this dataframe to an interactive table.\"\n",
              "              style=\"display:none;\">\n",
              "        \n",
              "  <svg xmlns=\"http://www.w3.org/2000/svg\" height=\"24px\"viewBox=\"0 0 24 24\"\n",
              "       width=\"24px\">\n",
              "    <path d=\"M0 0h24v24H0V0z\" fill=\"none\"/>\n",
              "    <path d=\"M18.56 5.44l.94 2.06.94-2.06 2.06-.94-2.06-.94-.94-2.06-.94 2.06-2.06.94zm-11 1L8.5 8.5l.94-2.06 2.06-.94-2.06-.94L8.5 2.5l-.94 2.06-2.06.94zm10 10l.94 2.06.94-2.06 2.06-.94-2.06-.94-.94-2.06-.94 2.06-2.06.94z\"/><path d=\"M17.41 7.96l-1.37-1.37c-.4-.4-.92-.59-1.43-.59-.52 0-1.04.2-1.43.59L10.3 9.45l-7.72 7.72c-.78.78-.78 2.05 0 2.83L4 21.41c.39.39.9.59 1.41.59.51 0 1.02-.2 1.41-.59l7.78-7.78 2.81-2.81c.8-.78.8-2.07 0-2.86zM5.41 20L4 18.59l7.72-7.72 1.47 1.35L5.41 20z\"/>\n",
              "  </svg>\n",
              "      </button>\n",
              "      \n",
              "  <style>\n",
              "    .colab-df-container {\n",
              "      display:flex;\n",
              "      flex-wrap:wrap;\n",
              "      gap: 12px;\n",
              "    }\n",
              "\n",
              "    .colab-df-convert {\n",
              "      background-color: #E8F0FE;\n",
              "      border: none;\n",
              "      border-radius: 50%;\n",
              "      cursor: pointer;\n",
              "      display: none;\n",
              "      fill: #1967D2;\n",
              "      height: 32px;\n",
              "      padding: 0 0 0 0;\n",
              "      width: 32px;\n",
              "    }\n",
              "\n",
              "    .colab-df-convert:hover {\n",
              "      background-color: #E2EBFA;\n",
              "      box-shadow: 0px 1px 2px rgba(60, 64, 67, 0.3), 0px 1px 3px 1px rgba(60, 64, 67, 0.15);\n",
              "      fill: #174EA6;\n",
              "    }\n",
              "\n",
              "    [theme=dark] .colab-df-convert {\n",
              "      background-color: #3B4455;\n",
              "      fill: #D2E3FC;\n",
              "    }\n",
              "\n",
              "    [theme=dark] .colab-df-convert:hover {\n",
              "      background-color: #434B5C;\n",
              "      box-shadow: 0px 1px 3px 1px rgba(0, 0, 0, 0.15);\n",
              "      filter: drop-shadow(0px 1px 2px rgba(0, 0, 0, 0.3));\n",
              "      fill: #FFFFFF;\n",
              "    }\n",
              "  </style>\n",
              "\n",
              "      <script>\n",
              "        const buttonEl =\n",
              "          document.querySelector('#df-48ebf678-861d-4dfc-a77e-4c7dba8db817 button.colab-df-convert');\n",
              "        buttonEl.style.display =\n",
              "          google.colab.kernel.accessAllowed ? 'block' : 'none';\n",
              "\n",
              "        async function convertToInteractive(key) {\n",
              "          const element = document.querySelector('#df-48ebf678-861d-4dfc-a77e-4c7dba8db817');\n",
              "          const dataTable =\n",
              "            await google.colab.kernel.invokeFunction('convertToInteractive',\n",
              "                                                     [key], {});\n",
              "          if (!dataTable) return;\n",
              "\n",
              "          const docLinkHtml = 'Like what you see? Visit the ' +\n",
              "            '<a target=\"_blank\" href=https://colab.research.google.com/notebooks/data_table.ipynb>data table notebook</a>'\n",
              "            + ' to learn more about interactive tables.';\n",
              "          element.innerHTML = '';\n",
              "          dataTable['output_type'] = 'display_data';\n",
              "          await google.colab.output.renderOutput(dataTable, element);\n",
              "          const docLink = document.createElement('div');\n",
              "          docLink.innerHTML = docLinkHtml;\n",
              "          element.appendChild(docLink);\n",
              "        }\n",
              "      </script>\n",
              "    </div>\n",
              "  </div>\n",
              "  "
            ],
            "text/plain": [
              "   index       lon   startdate  contest-pevpr-sfc-gauss-14d__pevpr  \\\n",
              "0      0  1.159198  2014-09-01                           -0.178921   \n",
              "1      1  1.159198  2014-09-02                           -0.224783   \n",
              "2      2  1.159198  2014-09-03                           -0.271269   \n",
              "3      3  1.159198  2014-09-04                           -0.245280   \n",
              "4      4  1.159198  2014-09-05                           -0.177562   \n",
              "\n",
              "   nmme0-tmp2m-34w__nmme0mean  contest-wind-h10-14d__wind-hgt-10  \\\n",
              "0                    1.793646                           0.558364   \n",
              "1                    1.793646                           0.552312   \n",
              "2                    1.793646                           0.534287   \n",
              "3                    1.793646                           0.513318   \n",
              "4                    1.793646                           0.491401   \n",
              "\n",
              "   nmme-tmp2m-56w__nmmemean  contest-rhum-sig995-14d__rhum  \\\n",
              "0                  1.579199                       1.089301   \n",
              "1                  1.579199                       1.137578   \n",
              "2                  1.579199                       1.179532   \n",
              "3                  1.579199                       1.177808   \n",
              "4                  1.579199                       1.134129   \n",
              "\n",
              "   nmme-prate-34w__ccsm3  nmme-prate-34w__ccsm4  ...     month    season  \\\n",
              "0              -0.844543              -0.183074  ...  0.718982  1.343489   \n",
              "1              -0.844543              -0.183074  ...  0.718982  1.343489   \n",
              "2              -0.844543              -0.183074  ...  0.718982  1.343489   \n",
              "3              -0.844543              -0.183074  ...  0.718982  1.343489   \n",
              "4              -0.844543              -0.183074  ...  0.718982  1.343489   \n",
              "\n",
              "       week  dayofyear  dayofyear_sin  dayofyear_cos  month_sin  month_cos  \\\n",
              "0  0.611932   0.578406      -1.230657      -0.692304  -1.410729    0.00238   \n",
              "1  0.611932   0.587901      -1.242399      -0.670973  -1.410729    0.00238   \n",
              "2  0.611932   0.597396      -1.253772      -0.649443  -1.410729    0.00238   \n",
              "3  0.611932   0.606891      -1.264774      -0.627721  -1.410729    0.00238   \n",
              "4  0.611932   0.616386      -1.275400      -0.605812  -1.410729    0.00238   \n",
              "\n",
              "   season_sin  season_cos  \n",
              "0   -1.417124    0.005808  \n",
              "1   -1.417124    0.005808  \n",
              "2   -1.417124    0.005808  \n",
              "3   -1.417124    0.005808  \n",
              "4   -1.417124    0.005808  \n",
              "\n",
              "[5 rows x 208 columns]"
            ]
          },
          "execution_count": 3,
          "metadata": {},
          "output_type": "execute_result"
        }
      ],
      "source": [
        "# Reading the clean train dataset\n",
        "# train_df = pd.read_csv('/kaggle/input/widsdatathon2023/train_data.csv') \n",
        "train_df = pd.read_csv(\"data/clean_train.csv\")\n",
        "print(f'The shape of the dataset is: {train_df.shape}')\n",
        "train_df.head()"
      ]
    },
    {
      "cell_type": "code",
      "execution_count": null,
      "metadata": {
        "colab": {
          "base_uri": "https://localhost:8080/",
          "height": 370
        },
        "id": "cNIS-fIsUISP",
        "outputId": "e22c78b5-e473-413b-acac-12b9fe754373"
      },
      "outputs": [
        {
          "name": "stdout",
          "output_type": "stream",
          "text": [
            "The shape of the dataset is: (31354, 207)\n"
          ]
        },
        {
          "data": {
            "text/html": [
              "\n",
              "  <div id=\"df-1268b53a-c2e7-45a3-be74-462d7b3d678d\">\n",
              "    <div class=\"colab-df-container\">\n",
              "      <div>\n",
              "<style scoped>\n",
              "    .dataframe tbody tr th:only-of-type {\n",
              "        vertical-align: middle;\n",
              "    }\n",
              "\n",
              "    .dataframe tbody tr th {\n",
              "        vertical-align: top;\n",
              "    }\n",
              "\n",
              "    .dataframe thead th {\n",
              "        text-align: right;\n",
              "    }\n",
              "</style>\n",
              "<table border=\"1\" class=\"dataframe\">\n",
              "  <thead>\n",
              "    <tr style=\"text-align: right;\">\n",
              "      <th></th>\n",
              "      <th>index</th>\n",
              "      <th>lon</th>\n",
              "      <th>startdate</th>\n",
              "      <th>contest-pevpr-sfc-gauss-14d__pevpr</th>\n",
              "      <th>nmme0-tmp2m-34w__nmme0mean</th>\n",
              "      <th>contest-wind-h10-14d__wind-hgt-10</th>\n",
              "      <th>nmme-tmp2m-56w__nmmemean</th>\n",
              "      <th>contest-rhum-sig995-14d__rhum</th>\n",
              "      <th>nmme-prate-34w__ccsm3</th>\n",
              "      <th>nmme-prate-34w__ccsm4</th>\n",
              "      <th>...</th>\n",
              "      <th>month</th>\n",
              "      <th>season</th>\n",
              "      <th>week</th>\n",
              "      <th>dayofyear</th>\n",
              "      <th>dayofyear_sin</th>\n",
              "      <th>dayofyear_cos</th>\n",
              "      <th>month_sin</th>\n",
              "      <th>month_cos</th>\n",
              "      <th>season_sin</th>\n",
              "      <th>season_cos</th>\n",
              "    </tr>\n",
              "  </thead>\n",
              "  <tbody>\n",
              "    <tr>\n",
              "      <th>0</th>\n",
              "      <td>375734</td>\n",
              "      <td>1.159198</td>\n",
              "      <td>2022-11-01</td>\n",
              "      <td>0.347231</td>\n",
              "      <td>1.59789</td>\n",
              "      <td>0.819078</td>\n",
              "      <td>2.001765</td>\n",
              "      <td>1.044448</td>\n",
              "      <td>-0.185206</td>\n",
              "      <td>0.710551</td>\n",
              "      <td>...</td>\n",
              "      <td>-1.01653</td>\n",
              "      <td>1.01653</td>\n",
              "      <td>-1.586021</td>\n",
              "      <td>-1.703886</td>\n",
              "      <td>-1.506288</td>\n",
              "      <td>-2.122550</td>\n",
              "      <td>-1.01653</td>\n",
              "      <td>-1.01653</td>\n",
              "      <td>-1.01653</td>\n",
              "      <td>-1.01653</td>\n",
              "    </tr>\n",
              "    <tr>\n",
              "      <th>1</th>\n",
              "      <td>375735</td>\n",
              "      <td>1.159198</td>\n",
              "      <td>2022-11-02</td>\n",
              "      <td>0.302370</td>\n",
              "      <td>1.59789</td>\n",
              "      <td>0.809402</td>\n",
              "      <td>2.001765</td>\n",
              "      <td>1.036774</td>\n",
              "      <td>-0.185206</td>\n",
              "      <td>0.710551</td>\n",
              "      <td>...</td>\n",
              "      <td>-1.01653</td>\n",
              "      <td>1.01653</td>\n",
              "      <td>-1.586021</td>\n",
              "      <td>-1.647089</td>\n",
              "      <td>-1.471497</td>\n",
              "      <td>-2.024335</td>\n",
              "      <td>-1.01653</td>\n",
              "      <td>-1.01653</td>\n",
              "      <td>-1.01653</td>\n",
              "      <td>-1.01653</td>\n",
              "    </tr>\n",
              "    <tr>\n",
              "      <th>2</th>\n",
              "      <td>375736</td>\n",
              "      <td>1.159198</td>\n",
              "      <td>2022-11-03</td>\n",
              "      <td>0.329714</td>\n",
              "      <td>1.59789</td>\n",
              "      <td>0.787662</td>\n",
              "      <td>2.001765</td>\n",
              "      <td>1.071657</td>\n",
              "      <td>-0.185206</td>\n",
              "      <td>0.710551</td>\n",
              "      <td>...</td>\n",
              "      <td>-1.01653</td>\n",
              "      <td>1.01653</td>\n",
              "      <td>-1.586021</td>\n",
              "      <td>-1.590293</td>\n",
              "      <td>-1.435726</td>\n",
              "      <td>-1.927164</td>\n",
              "      <td>-1.01653</td>\n",
              "      <td>-1.01653</td>\n",
              "      <td>-1.01653</td>\n",
              "      <td>-1.01653</td>\n",
              "    </tr>\n",
              "    <tr>\n",
              "      <th>3</th>\n",
              "      <td>375737</td>\n",
              "      <td>1.159198</td>\n",
              "      <td>2022-11-04</td>\n",
              "      <td>0.397903</td>\n",
              "      <td>1.59789</td>\n",
              "      <td>0.769890</td>\n",
              "      <td>2.001765</td>\n",
              "      <td>1.033286</td>\n",
              "      <td>-0.185206</td>\n",
              "      <td>0.710551</td>\n",
              "      <td>...</td>\n",
              "      <td>-1.01653</td>\n",
              "      <td>1.01653</td>\n",
              "      <td>-1.586021</td>\n",
              "      <td>-1.533497</td>\n",
              "      <td>-1.398988</td>\n",
              "      <td>-1.831065</td>\n",
              "      <td>-1.01653</td>\n",
              "      <td>-1.01653</td>\n",
              "      <td>-1.01653</td>\n",
              "      <td>-1.01653</td>\n",
              "    </tr>\n",
              "    <tr>\n",
              "      <th>4</th>\n",
              "      <td>375738</td>\n",
              "      <td>1.159198</td>\n",
              "      <td>2022-11-05</td>\n",
              "      <td>0.496854</td>\n",
              "      <td>1.59789</td>\n",
              "      <td>0.744264</td>\n",
              "      <td>2.001765</td>\n",
              "      <td>0.984449</td>\n",
              "      <td>-0.185206</td>\n",
              "      <td>0.710551</td>\n",
              "      <td>...</td>\n",
              "      <td>-1.01653</td>\n",
              "      <td>1.01653</td>\n",
              "      <td>-1.586021</td>\n",
              "      <td>-1.476701</td>\n",
              "      <td>-1.361291</td>\n",
              "      <td>-1.736065</td>\n",
              "      <td>-1.01653</td>\n",
              "      <td>-1.01653</td>\n",
              "      <td>-1.01653</td>\n",
              "      <td>-1.01653</td>\n",
              "    </tr>\n",
              "  </tbody>\n",
              "</table>\n",
              "<p>5 rows × 207 columns</p>\n",
              "</div>\n",
              "      <button class=\"colab-df-convert\" onclick=\"convertToInteractive('df-1268b53a-c2e7-45a3-be74-462d7b3d678d')\"\n",
              "              title=\"Convert this dataframe to an interactive table.\"\n",
              "              style=\"display:none;\">\n",
              "        \n",
              "  <svg xmlns=\"http://www.w3.org/2000/svg\" height=\"24px\"viewBox=\"0 0 24 24\"\n",
              "       width=\"24px\">\n",
              "    <path d=\"M0 0h24v24H0V0z\" fill=\"none\"/>\n",
              "    <path d=\"M18.56 5.44l.94 2.06.94-2.06 2.06-.94-2.06-.94-.94-2.06-.94 2.06-2.06.94zm-11 1L8.5 8.5l.94-2.06 2.06-.94-2.06-.94L8.5 2.5l-.94 2.06-2.06.94zm10 10l.94 2.06.94-2.06 2.06-.94-2.06-.94-.94-2.06-.94 2.06-2.06.94z\"/><path d=\"M17.41 7.96l-1.37-1.37c-.4-.4-.92-.59-1.43-.59-.52 0-1.04.2-1.43.59L10.3 9.45l-7.72 7.72c-.78.78-.78 2.05 0 2.83L4 21.41c.39.39.9.59 1.41.59.51 0 1.02-.2 1.41-.59l7.78-7.78 2.81-2.81c.8-.78.8-2.07 0-2.86zM5.41 20L4 18.59l7.72-7.72 1.47 1.35L5.41 20z\"/>\n",
              "  </svg>\n",
              "      </button>\n",
              "      \n",
              "  <style>\n",
              "    .colab-df-container {\n",
              "      display:flex;\n",
              "      flex-wrap:wrap;\n",
              "      gap: 12px;\n",
              "    }\n",
              "\n",
              "    .colab-df-convert {\n",
              "      background-color: #E8F0FE;\n",
              "      border: none;\n",
              "      border-radius: 50%;\n",
              "      cursor: pointer;\n",
              "      display: none;\n",
              "      fill: #1967D2;\n",
              "      height: 32px;\n",
              "      padding: 0 0 0 0;\n",
              "      width: 32px;\n",
              "    }\n",
              "\n",
              "    .colab-df-convert:hover {\n",
              "      background-color: #E2EBFA;\n",
              "      box-shadow: 0px 1px 2px rgba(60, 64, 67, 0.3), 0px 1px 3px 1px rgba(60, 64, 67, 0.15);\n",
              "      fill: #174EA6;\n",
              "    }\n",
              "\n",
              "    [theme=dark] .colab-df-convert {\n",
              "      background-color: #3B4455;\n",
              "      fill: #D2E3FC;\n",
              "    }\n",
              "\n",
              "    [theme=dark] .colab-df-convert:hover {\n",
              "      background-color: #434B5C;\n",
              "      box-shadow: 0px 1px 3px 1px rgba(0, 0, 0, 0.15);\n",
              "      filter: drop-shadow(0px 1px 2px rgba(0, 0, 0, 0.3));\n",
              "      fill: #FFFFFF;\n",
              "    }\n",
              "  </style>\n",
              "\n",
              "      <script>\n",
              "        const buttonEl =\n",
              "          document.querySelector('#df-1268b53a-c2e7-45a3-be74-462d7b3d678d button.colab-df-convert');\n",
              "        buttonEl.style.display =\n",
              "          google.colab.kernel.accessAllowed ? 'block' : 'none';\n",
              "\n",
              "        async function convertToInteractive(key) {\n",
              "          const element = document.querySelector('#df-1268b53a-c2e7-45a3-be74-462d7b3d678d');\n",
              "          const dataTable =\n",
              "            await google.colab.kernel.invokeFunction('convertToInteractive',\n",
              "                                                     [key], {});\n",
              "          if (!dataTable) return;\n",
              "\n",
              "          const docLinkHtml = 'Like what you see? Visit the ' +\n",
              "            '<a target=\"_blank\" href=https://colab.research.google.com/notebooks/data_table.ipynb>data table notebook</a>'\n",
              "            + ' to learn more about interactive tables.';\n",
              "          element.innerHTML = '';\n",
              "          dataTable['output_type'] = 'display_data';\n",
              "          await google.colab.output.renderOutput(dataTable, element);\n",
              "          const docLink = document.createElement('div');\n",
              "          docLink.innerHTML = docLinkHtml;\n",
              "          element.appendChild(docLink);\n",
              "        }\n",
              "      </script>\n",
              "    </div>\n",
              "  </div>\n",
              "  "
            ],
            "text/plain": [
              "    index       lon   startdate  contest-pevpr-sfc-gauss-14d__pevpr  \\\n",
              "0  375734  1.159198  2022-11-01                            0.347231   \n",
              "1  375735  1.159198  2022-11-02                            0.302370   \n",
              "2  375736  1.159198  2022-11-03                            0.329714   \n",
              "3  375737  1.159198  2022-11-04                            0.397903   \n",
              "4  375738  1.159198  2022-11-05                            0.496854   \n",
              "\n",
              "   nmme0-tmp2m-34w__nmme0mean  contest-wind-h10-14d__wind-hgt-10  \\\n",
              "0                     1.59789                           0.819078   \n",
              "1                     1.59789                           0.809402   \n",
              "2                     1.59789                           0.787662   \n",
              "3                     1.59789                           0.769890   \n",
              "4                     1.59789                           0.744264   \n",
              "\n",
              "   nmme-tmp2m-56w__nmmemean  contest-rhum-sig995-14d__rhum  \\\n",
              "0                  2.001765                       1.044448   \n",
              "1                  2.001765                       1.036774   \n",
              "2                  2.001765                       1.071657   \n",
              "3                  2.001765                       1.033286   \n",
              "4                  2.001765                       0.984449   \n",
              "\n",
              "   nmme-prate-34w__ccsm3  nmme-prate-34w__ccsm4  ...    month   season  \\\n",
              "0              -0.185206               0.710551  ... -1.01653  1.01653   \n",
              "1              -0.185206               0.710551  ... -1.01653  1.01653   \n",
              "2              -0.185206               0.710551  ... -1.01653  1.01653   \n",
              "3              -0.185206               0.710551  ... -1.01653  1.01653   \n",
              "4              -0.185206               0.710551  ... -1.01653  1.01653   \n",
              "\n",
              "       week  dayofyear  dayofyear_sin  dayofyear_cos  month_sin  month_cos  \\\n",
              "0 -1.586021  -1.703886      -1.506288      -2.122550   -1.01653   -1.01653   \n",
              "1 -1.586021  -1.647089      -1.471497      -2.024335   -1.01653   -1.01653   \n",
              "2 -1.586021  -1.590293      -1.435726      -1.927164   -1.01653   -1.01653   \n",
              "3 -1.586021  -1.533497      -1.398988      -1.831065   -1.01653   -1.01653   \n",
              "4 -1.586021  -1.476701      -1.361291      -1.736065   -1.01653   -1.01653   \n",
              "\n",
              "   season_sin  season_cos  \n",
              "0    -1.01653    -1.01653  \n",
              "1    -1.01653    -1.01653  \n",
              "2    -1.01653    -1.01653  \n",
              "3    -1.01653    -1.01653  \n",
              "4    -1.01653    -1.01653  \n",
              "\n",
              "[5 rows x 207 columns]"
            ]
          },
          "execution_count": 4,
          "metadata": {},
          "output_type": "execute_result"
        }
      ],
      "source": [
        "# Reading the clean test dataset\n",
        "# test_df = pd.read_csv('/kaggle/input/widsdatathon2023/test_data.csv') \n",
        "test_df = pd.read_csv(\"data/clean_test.csv\")\n",
        "print(f'The shape of the dataset is: {test_df.shape}')\n",
        "test_df.head()"
      ]
    },
    {
      "cell_type": "markdown",
      "metadata": {
        "id": "gjYxbMI5Tqzj"
      },
      "source": [
        "# Modelling"
      ]
    },
    {
      "cell_type": "markdown",
      "metadata": {
        "id": "m6O7xNQBzZic"
      },
      "source": [
        "## Splitting the train dataset"
      ]
    },
    {
      "cell_type": "code",
      "execution_count": null,
      "metadata": {
        "colab": {
          "base_uri": "https://localhost:8080/"
        },
        "id": "9UNFwAK6UITj",
        "outputId": "69370347-e7e7-4863-9c1d-e73c9be9a7a8"
      },
      "outputs": [
        {
          "name": "stdout",
          "output_type": "stream",
          "text": [
            "(375734, 205)\n",
            "(31354, 205)\n"
          ]
        }
      ],
      "source": [
        "# Select main columns to be used in training\n",
        "main_cols = train_df.columns.difference(['index', 'contest-tmp2m-14d__tmp2m', 'startdate'])\n",
        "X = train_df[main_cols]\n",
        "y = train_df['contest-tmp2m-14d__tmp2m']\n",
        "test_X = test_df.drop(['index', 'startdate'], axis=1)\n",
        "\n",
        "print(X.shape)\n",
        "print(test_X.shape)"
      ]
    },
    {
      "cell_type": "code",
      "execution_count": null,
      "metadata": {
        "colab": {
          "base_uri": "https://localhost:8080/"
        },
        "id": "DuzSxnylfBrW",
        "outputId": "abca5740-6dcc-455b-bca9-7d056f0d1e63"
      },
      "outputs": [
        {
          "name": "stdout",
          "output_type": "stream",
          "text": [
            "(300587, 205)\n",
            "(75147, 205)\n",
            "(225440, 205)\n",
            "(75147, 205)\n"
          ]
        }
      ],
      "source": [
        "# Perform first split\n",
        "X_train_temp, X_test, y_train_temp, y_test = train_test_split(X, \n",
        "                                                              y, \n",
        "                                                              test_size=0.2, \n",
        "                                                              random_state=42)\n",
        "print(X_train_temp.shape)\n",
        "print(X_test.shape)\n",
        "\n",
        "# Perform the second split\n",
        "X_train, X_valid, y_train, y_valid = train_test_split(X_train_temp, y_train_temp, \n",
        "                                                      test_size=0.25, random_state=42)\n",
        "print(X_train.shape)\n",
        "print(X_valid.shape)"
      ]
    },
    {
      "cell_type": "markdown",
      "metadata": {
        "id": "msql1cpqYnoT"
      },
      "source": [
        "**Scaling**\n",
        "<br>\n",
        "- Before moving on it is key to note that it is crucial to split the data before performing any further transformations such as scaling the data because we want to prevent any information about the test set to spill over into our training and validation set. \n",
        "- Data scaling is often done using statistics about the data set as a whole, such as mean and standard deviation. Because we want to be able to measure how well our Machine Learning models perform on data they have never seen before we have to make sure that no information from the test data impacts how the scaling or any other transformation is done."
      ]
    },
    {
      "cell_type": "code",
      "execution_count": null,
      "metadata": {
        "colab": {
          "base_uri": "https://localhost:8080/"
        },
        "id": "W4zpRhMpYofG",
        "outputId": "5f92b61b-20c8-440e-8823-41f5daed66eb"
      },
      "outputs": [
        {
          "name": "stderr",
          "output_type": "stream",
          "text": [
            "/usr/local/lib/python3.8/dist-packages/sklearn/base.py:493: FutureWarning: The feature names should match those that were passed during fit. Starting version 1.2, an error will be raised.\n",
            "Feature names must be in the same order as they were in fit.\n",
            "\n",
            "  warnings.warn(message, FutureWarning)\n"
          ]
        },
        {
          "data": {
            "text/plain": [
              "array([[ 0.61362101,  0.56413182,  0.84827846, ...,  0.22782634,\n",
              "         0.15483636,  0.156576  ],\n",
              "       [ 0.61362101,  0.54891599,  0.84827846, ...,  0.22782634,\n",
              "         0.15483636,  0.156576  ],\n",
              "       [ 0.61362101,  0.5581904 ,  0.84827846, ...,  0.22782634,\n",
              "         0.15483636,  0.156576  ],\n",
              "       ...,\n",
              "       [ 0.64421083, -0.21804863, -0.3144378 , ...,  0.67806202,\n",
              "         0.79784147,  0.78844544],\n",
              "       [ 0.64421083, -0.18961677, -0.3144378 , ...,  0.67806202,\n",
              "         0.79784147,  0.78844544],\n",
              "       [ 0.64421083, -0.17118389, -0.3144378 , ...,  0.67806202,\n",
              "         0.79784147,  0.78844544]])"
            ]
          },
          "execution_count": 7,
          "metadata": {},
          "output_type": "execute_result"
        }
      ],
      "source": [
        "# Create the scaler with object range of 0-1\n",
        "scaler = MinMaxScaler()\n",
        "\n",
        "# Fit and transform using the training data\n",
        "scaler.fit_transform(X_train)\n",
        "\n",
        "# Transform the validation and test features\n",
        "scaler.transform(X_valid)\n",
        "scaler.transform(test_X)"
      ]
    },
    {
      "cell_type": "markdown",
      "metadata": {
        "id": "W-VD2SGWT4oT"
      },
      "source": [
        "## Training"
      ]
    },
    {
      "cell_type": "markdown",
      "metadata": {
        "id": "4akVbUtPZjO1"
      },
      "source": [
        "**Scoring**\n",
        "<br>\n",
        "- For regression problems there are many different measures of performance thoough in this competition we will mainly use Root Mean Squared Error as it is the scoring mteric used. We will other metrics to keep track of model performance as well. \n",
        "- Additionally, we compute an accuracy of the predictions of the models. Accuracy is typically used as a performance measure in classification problems and not regression problems because it refers to the proportion of correct predictions that the model makes. \n",
        "- The way we use accuracy for the regression models in this analysis is different. Accuracy for the regression models is a measure of how far off (in percentage terms) the predicted Temperature will be from the actual Temperature, on average. "
      ]
    },
    {
      "cell_type": "code",
      "execution_count": null,
      "metadata": {
        "id": "eWDBxmCcZ2FN"
      },
      "outputs": [],
      "source": [
        "def scoring(model, test_features, test_labels):\n",
        "    predictions = model.predict(test_features)\n",
        "    mae = mean_absolute_error(test_labels, predictions)\n",
        "    mse = mean_squared_error(test_labels, predictions)\n",
        "    rmse = np.sqrt(mse)\n",
        "    r2 = r2_score(test_labels, predictions)\n",
        "    errors = abs(predictions - test_labels)\n",
        "    mape = 100 * np.mean(errors / test_labels)\n",
        "    accuracy = 100 - mape\n",
        "    print('Model Performance')\n",
        "    print('Mean Absolute Error: {:0.4f}.'.format(mae))\n",
        "    print('Mean Squared Error: {:0.4f}.'.format(mse))\n",
        "    print('Root Mean Squared Error: {:0.4f}.'.format(rmse))\n",
        "    print('R^2 Score = {:0.4f}.'.format(r2))\n",
        "    print('Accuracy = {:0.2f}%.'.format(accuracy))"
      ]
    },
    {
      "cell_type": "markdown",
      "metadata": {
        "id": "1QUocR97aL1G"
      },
      "source": [
        "## Baseline Performance"
      ]
    },
    {
      "cell_type": "code",
      "execution_count": null,
      "metadata": {
        "colab": {
          "base_uri": "https://localhost:8080/"
        },
        "id": "t-Qw3qdIaOhk",
        "outputId": "03de4c1f-1e49-4538-a594-38898cda1b5f"
      },
      "outputs": [
        {
          "name": "stdout",
          "output_type": "stream",
          "text": [
            "Model Performance\n",
            "Mean Absolute Error: 8.0773.\n",
            "Mean Squared Error: 96.4408.\n",
            "Root Mean Squared Error: 9.8204.\n",
            "R^2 Score = -0.0018.\n",
            "Accuracy = -30.32%.\n"
          ]
        }
      ],
      "source": [
        "# Create list of median predictions that has the same length as y_valid\n",
        "baseline_y = [y_train.median()] * len(y_valid)\n",
        "\n",
        "# Compute the relevant scores\n",
        "base_predictions = baseline_y\n",
        "base_mae = mean_absolute_error(y_valid, base_predictions)\n",
        "base_mse = mean_squared_error(y_valid, base_predictions)\n",
        "base_rmse = np.sqrt(base_mse)\n",
        "base_r2 = r2_score(y_valid, base_predictions)\n",
        "base_errors = abs(base_predictions - y_valid)\n",
        "base_mape = 100 * np.mean(base_errors / y_valid)\n",
        "base_accuracy = 100 - base_mape\n",
        "\n",
        "print('Model Performance')\n",
        "print('Mean Absolute Error: {:0.4f}.'.format(base_mae))\n",
        "print('Mean Squared Error: {:0.4f}.'.format(base_mse))\n",
        "print('Root Mean Squared Error: {:0.4f}.'.format(base_rmse))\n",
        "print('R^2 Score = {:0.4f}.'.format(base_r2))\n",
        "print('Accuracy = {:0.2f}%.'.format(base_accuracy))"
      ]
    },
    {
      "cell_type": "markdown",
      "metadata": {
        "id": "-ho_-yreal0s"
      },
      "source": [
        "**Observations**\n",
        "- Both the R-squared and accuracy are negative, which is a strong indication of extremely poor model performance.\n",
        "- Hopefully our model strongly outperforms this\n",
        "\n",
        "Before we move on to our model let’s first select the features that we want to use in those models."
      ]
    },
    {
      "cell_type": "markdown",
      "metadata": {
        "id": "qJQ7xAWnbJPp"
      },
      "source": [
        "## Feature Selection using Lasso Regression"
      ]
    },
    {
      "cell_type": "markdown",
      "metadata": {
        "id": "IMW-DTlsbN_i"
      },
      "source": [
        "**Exaplanation**\n",
        "<br>\n",
        "- Fitting a linear regression minimises a loss function by choosing coefficients for each feature variable. \n",
        "- One problem with that is that large coefficients can lead to overfitting, meaning that the model will perform well on the training data but poorly on data it has never seen before. This is where regularisation comes in.\n",
        "- Lasso Regression is a type of regularisation regression that penalises the absolute size of the regression coefficients through an additional term in the loss function."
      ]
    },
    {
      "cell_type": "code",
      "execution_count": null,
      "metadata": {
        "colab": {
          "base_uri": "https://localhost:8080/",
          "height": 316
        },
        "id": "ifsg7OKybNPZ",
        "outputId": "1aeaeb62-c8c2-4f26-f6f2-431a13c17712"
      },
      "outputs": [
        {
          "data": {
            "text/plain": [
              "Text(0, 0.5, 'Coefficients')"
            ]
          },
          "execution_count": 10,
          "metadata": {},
          "output_type": "execute_result"
        },
        {
          "data": {
            "image/png": "[encoded data removed]",
            "text/plain": [
              "<Figure size 2520x432 with 1 Axes>"
            ]
          },
          "metadata": {},
          "output_type": "display_data"
        }
      ],
      "source": [
        "# Create the model\n",
        "lasso = Lasso(alpha=0.1)\n",
        "\n",
        "# Fit the model to the training data\n",
        "lasso.fit(X_train, y_train)\n",
        "\n",
        "# Extract the coefficients\n",
        "lasso_coef = lasso.coef_\n",
        "\n",
        "# Plot the coefficients\n",
        "plt.figure(figsize=(35, 6))\n",
        "plt.plot(range(len(X_train.columns)), lasso_coef)\n",
        "plt.xticks(range(len(X_train.columns)), X_train.columns, rotation=60)\n",
        "plt.axhline(0.0, linestyle='--', color='r')\n",
        "plt.ylabel('Coefficients')"
      ]
    },
    {
      "cell_type": "markdown",
      "metadata": {
        "id": "898-0eX5bktq"
      },
      "source": [
        "**Observations**\n",
        "<br>\n",
        "- Coefficients that are zero indicate that the corresponding feature is not important: When the Lasso algorithm shrinks the coefficient of a feature to zero, it effectively removes that feature from the model. \n",
        "- This means that features with coefficients of zero can be safely ignored, as they are not contributing to the model."
      ]
    },
    {
      "cell_type": "code",
      "execution_count": null,
      "metadata": {
        "colab": {
          "base_uri": "https://localhost:8080/"
        },
        "id": "ircAFMOSk1ak",
        "outputId": "2df22d6e-ef80-4269-d36d-67961d4965df"
      },
      "outputs": [
        {
          "name": "stdout",
          "output_type": "stream",
          "text": [
            "162\n",
            "['contest-pevpr-sfc-gauss-14d__pevpr' 'contest-pres-sfc-gauss-14d__pres'\n",
            " 'contest-wind-h10-14d__wind-hgt-10' 'contest-wind-h100-14d__wind-hgt-100'\n",
            " 'contest-wind-vwnd-250-14d__wind-vwnd-250' 'dayofyear' 'dayofyear_cos'\n",
            " 'dayofyear_sin' 'icec-2010-1' 'icec-2010-10' 'icec-2010-2' 'icec-2010-3'\n",
            " 'icec-2010-4' 'icec-2010-5' 'icec-2010-6' 'icec-2010-9' 'mei__mei'\n",
            " 'mei__meirank' 'mei__nip' 'mjo1d__amplitude' 'mjo1d__phase' 'month'\n",
            " 'month_cos' 'nmme-prate-34w__ccsm3' 'nmme-prate-34w__ccsm4'\n",
            " 'nmme-prate-34w__gfdlflora' 'nmme-prate-34w__gfdlflorb'\n",
            " 'nmme-prate-56w__ccsm3' 'nmme-prate-56w__ccsm4' 'nmme-prate-56w__cfsv2'\n",
            " 'nmme-prate-56w__gfdl' 'nmme-prate-56w__gfdlflora'\n",
            " 'nmme-prate-56w__gfdlflorb' 'nmme-prate-56w__nasa'\n",
            " 'nmme-prate-56w__nmmemean' 'nmme-tmp2m-34w__ccsm3'\n",
            " 'nmme0-prate-34w__cancm30' 'nmme0-prate-34w__cancm40'\n",
            " 'nmme0-prate-34w__ccsm30' 'nmme0-prate-34w__ccsm40'\n",
            " 'nmme0-prate-34w__cfsv20' 'nmme0-prate-34w__gfdl0'\n",
            " 'nmme0-prate-34w__gfdlflorb0' 'nmme0-prate-34w__nasa0'\n",
            " 'nmme0-prate-34w__nmme0mean' 'nmme0-prate-56w__cancm30'\n",
            " 'nmme0-prate-56w__cancm40' 'nmme0-prate-56w__ccsm30'\n",
            " 'nmme0-prate-56w__ccsm40' 'nmme0-prate-56w__cfsv20'\n",
            " 'nmme0-prate-56w__gfdl0' 'nmme0-prate-56w__gfdlflorb0'\n",
            " 'nmme0-prate-56w__nasa0' 'nmme0-prate-56w__nmme0mean'\n",
            " 'nmme0-tmp2m-34w__nmme0mean' 'nmme0mean' 'season' 'season_cos'\n",
            " 'season_sin' 'sst-2010-1' 'sst-2010-10' 'sst-2010-2' 'sst-2010-3'\n",
            " 'sst-2010-4' 'sst-2010-6' 'sst-2010-7' 'sst-2010-8' 'sst-2010-9' 'week'\n",
            " 'wind-hgt-10-2010-10' 'wind-hgt-10-2010-2' 'wind-hgt-10-2010-3'\n",
            " 'wind-hgt-10-2010-4' 'wind-hgt-10-2010-5' 'wind-hgt-10-2010-8'\n",
            " 'wind-hgt-10-2010-9' 'wind-hgt-100-2010-10' 'wind-hgt-100-2010-2'\n",
            " 'wind-hgt-100-2010-3' 'wind-hgt-100-2010-4' 'wind-hgt-100-2010-5'\n",
            " 'wind-hgt-100-2010-6' 'wind-hgt-100-2010-9' 'wind-hgt-500-2010-10'\n",
            " 'wind-hgt-500-2010-2' 'wind-hgt-500-2010-3' 'wind-hgt-500-2010-4'\n",
            " 'wind-hgt-500-2010-5' 'wind-hgt-500-2010-6' 'wind-hgt-500-2010-7'\n",
            " 'wind-hgt-500-2010-8' 'wind-hgt-500-2010-9' 'wind-hgt-850-2010-1'\n",
            " 'wind-hgt-850-2010-10' 'wind-hgt-850-2010-2' 'wind-hgt-850-2010-3'\n",
            " 'wind-hgt-850-2010-5' 'wind-hgt-850-2010-6' 'wind-hgt-850-2010-7'\n",
            " 'wind-hgt-850-2010-8' 'wind-uwnd-250-2010-11' 'wind-uwnd-250-2010-12'\n",
            " 'wind-uwnd-250-2010-13' 'wind-uwnd-250-2010-14' 'wind-uwnd-250-2010-15'\n",
            " 'wind-uwnd-250-2010-17' 'wind-uwnd-250-2010-18' 'wind-uwnd-250-2010-2'\n",
            " 'wind-uwnd-250-2010-20' 'wind-uwnd-250-2010-3' 'wind-uwnd-250-2010-4'\n",
            " 'wind-uwnd-250-2010-5' 'wind-uwnd-250-2010-8' 'wind-uwnd-925-2010-10'\n",
            " 'wind-uwnd-925-2010-11' 'wind-uwnd-925-2010-12' 'wind-uwnd-925-2010-13'\n",
            " 'wind-uwnd-925-2010-14' 'wind-uwnd-925-2010-15' 'wind-uwnd-925-2010-16'\n",
            " 'wind-uwnd-925-2010-17' 'wind-uwnd-925-2010-18' 'wind-uwnd-925-2010-19'\n",
            " 'wind-uwnd-925-2010-2' 'wind-uwnd-925-2010-3' 'wind-uwnd-925-2010-4'\n",
            " 'wind-uwnd-925-2010-5' 'wind-uwnd-925-2010-6' 'wind-uwnd-925-2010-7'\n",
            " 'wind-uwnd-925-2010-8' 'wind-uwnd-925-2010-9' 'wind-vwnd-250-2010-1'\n",
            " 'wind-vwnd-250-2010-10' 'wind-vwnd-250-2010-12' 'wind-vwnd-250-2010-14'\n",
            " 'wind-vwnd-250-2010-15' 'wind-vwnd-250-2010-17' 'wind-vwnd-250-2010-19'\n",
            " 'wind-vwnd-250-2010-2' 'wind-vwnd-250-2010-20' 'wind-vwnd-250-2010-4'\n",
            " 'wind-vwnd-250-2010-5' 'wind-vwnd-250-2010-6' 'wind-vwnd-250-2010-7'\n",
            " 'wind-vwnd-250-2010-8' 'wind-vwnd-925-2010-1' 'wind-vwnd-925-2010-10'\n",
            " 'wind-vwnd-925-2010-12' 'wind-vwnd-925-2010-13' 'wind-vwnd-925-2010-14'\n",
            " 'wind-vwnd-925-2010-15' 'wind-vwnd-925-2010-16' 'wind-vwnd-925-2010-17'\n",
            " 'wind-vwnd-925-2010-19' 'wind-vwnd-925-2010-2' 'wind-vwnd-925-2010-20'\n",
            " 'wind-vwnd-925-2010-3' 'wind-vwnd-925-2010-4' 'wind-vwnd-925-2010-5'\n",
            " 'wind-vwnd-925-2010-6' 'wind-vwnd-925-2010-7' 'wind-vwnd-925-2010-9']\n"
          ]
        }
      ],
      "source": [
        "# Get an array of the column names where the coefficient is equal to zero\n",
        "zero_coef = np.abs(lasso.coef_) == 0\n",
        "zero_coef_cols = np.array(list(X.columns))[zero_coef]\n",
        "\n",
        "print(len(zero_coef_cols))\n",
        "print(zero_coef_cols)"
      ]
    },
    {
      "cell_type": "code",
      "execution_count": null,
      "metadata": {
        "colab": {
          "base_uri": "https://localhost:8080/"
        },
        "id": "_4wyrCqebjdG",
        "outputId": "be32ea9c-30e2-4a56-cd2b-e5251230d637"
      },
      "outputs": [
        {
          "name": "stdout",
          "output_type": "stream",
          "text": [
            "(225440, 43)\n",
            "(300587, 43)\n",
            "(75147, 43)\n",
            "(31354, 43)\n"
          ]
        }
      ],
      "source": [
        "# Drop these columns from training, validation and test data\n",
        "X_train.drop(columns=zero_coef_cols, inplace=True)\n",
        "X_train_temp.drop(columns=zero_coef_cols, inplace=True)\n",
        "X_valid.drop(columns=zero_coef_cols, inplace=True)\n",
        "test_X.drop(columns=zero_coef_cols, inplace=True)\n",
        "\n",
        "print(X_train.shape)\n",
        "print(X_train_temp.shape)\n",
        "print(X_valid.shape)\n",
        "print(test_X.shape)"
      ]
    },
    {
      "cell_type": "markdown",
      "metadata": {
        "id": "YGNKJu7kcBYu"
      },
      "source": [
        "## Different Baseline Regressor Models"
      ]
    },
    {
      "cell_type": "markdown",
      "metadata": {
        "id": "K6Hv7KXPoMTj"
      },
      "source": [
        "### Multiple Linear Regression (MLR)"
      ]
    },
    {
      "cell_type": "code",
      "execution_count": null,
      "metadata": {
        "colab": {
          "base_uri": "https://localhost:8080/"
        },
        "id": "hYKEBNLzoRQ4",
        "outputId": "1da11c92-170e-400c-a691-40dfce6ca55a"
      },
      "outputs": [
        {
          "name": "stdout",
          "output_type": "stream",
          "text": [
            "Model Performance\n",
            "Mean Absolute Error: 1.4538.\n",
            "Mean Squared Error: 3.5132.\n",
            "Root Mean Squared Error: 1.8744.\n",
            "R^2 Score = 0.9635.\n",
            "Accuracy = 72.78%.\n"
          ]
        }
      ],
      "source": [
        "# Create regressor\n",
        "lr_regressor = LinearRegression()\n",
        "\n",
        "# Fit MLR model to training data\n",
        "mlr = lr_regressor.fit(X_train, y_train)\n",
        "\n",
        "# Evaluate the performance\n",
        "scoring(mlr, X_valid, y_valid)"
      ]
    },
    {
      "cell_type": "code",
      "execution_count": null,
      "metadata": {
        "colab": {
          "base_uri": "https://localhost:8080/"
        },
        "id": "ozIyiSIfr_X0",
        "outputId": "10624de4-ca74-472e-9d63-c93e0cd4e555"
      },
      "outputs": [
        {
          "name": "stdout",
          "output_type": "stream",
          "text": [
            "climateregions__climateregion: ---------------------------- -0.19072769067496093\n",
            "contest-pevpr-sfc-gauss-14d__pevpr: ---------------------------- -0.27378072672352527\n",
            "contest-precip-14d__precip: ---------------------------- 0.7721794271881234\n",
            "contest-pres-sfc-gauss-14d__pres: ---------------------------- -0.6936991310685575\n",
            "contest-prwtr-eatm-14d__prwtr: ---------------------------- -1.8598040351760725\n",
            "contest-rhum-sig995-14d__rhum: ---------------------------- 1.2416031656844797\n",
            "contest-slp-14d__slp: ---------------------------- 1.0572345811192796\n",
            "contest-wind-h10-14d__wind-hgt-10: ---------------------------- -0.17673032185117576\n",
            "contest-wind-h100-14d__wind-hgt-100: ---------------------------- 0.32882446442764945\n",
            "contest-wind-h500-14d__wind-hgt-500: ---------------------------- 0.20773068600093253\n",
            "contest-wind-h850-14d__wind-hgt-850: ---------------------------- -0.945250950933329\n",
            "contest-wind-uwnd-250-14d__wind-uwnd-250: ---------------------------- -0.35238638600026667\n",
            "contest-wind-uwnd-925-14d__wind-uwnd-925: ---------------------------- 0.323503207738215\n",
            "contest-wind-vwnd-250-14d__wind-vwnd-250: ---------------------------- -0.4867741401365446\n",
            "contest-wind-vwnd-925-14d__wind-vwnd-925: ---------------------------- -0.7865782491187614\n",
            "dayofyear: ---------------------------- 0.9066596696150765\n",
            "dayofyear_cos: ---------------------------- 0.2321165809637573\n",
            "dayofyear_sin: ---------------------------- 0.22698776004161786\n",
            "elevation__elevation: ---------------------------- 5.557724953424605\n",
            "icec-2010-1: ---------------------------- 0.08490068402534895\n",
            "icec-2010-10: ---------------------------- 0.06432237861323425\n",
            "icec-2010-2: ---------------------------- -0.009575491110735915\n",
            "icec-2010-3: ---------------------------- 0.3037456152783504\n",
            "icec-2010-4: ---------------------------- 0.08024209340110267\n",
            "icec-2010-5: ---------------------------- 0.06674699744792295\n",
            "icec-2010-6: ---------------------------- -0.0827365335946262\n",
            "icec-2010-7: ---------------------------- 0.5434036852495344\n",
            "icec-2010-8: ---------------------------- 0.24759455848078804\n",
            "icec-2010-9: ---------------------------- -0.14839640784103747\n",
            "loc_group: ---------------------------- -0.03589256781445155\n",
            "lon: ---------------------------- 0.1708933917918518\n",
            "mei__mei: ---------------------------- -0.31759859612946256\n",
            "mei__meirank: ---------------------------- 0.10365823821134994\n",
            "mei__nip: ---------------------------- 0.13920007852407448\n",
            "mjo1d__amplitude: ---------------------------- 0.19020136934329038\n",
            "mjo1d__phase: ---------------------------- -0.19588795059802383\n",
            "month: ---------------------------- -0.006354389291909914\n",
            "month_cos: ---------------------------- -0.09780235208781575\n",
            "month_sin: ---------------------------- 0.03506572782361838\n",
            "nmme-prate-34w__ccsm3: ---------------------------- -0.040583766813253\n",
            "nmme-prate-34w__ccsm4: ---------------------------- 0.003717619185418095\n",
            "nmme-prate-34w__gfdlflora: ---------------------------- 0.2439948103311521\n",
            "nmme-prate-34w__gfdlflorb: ---------------------------- -0.189364377553877\n"
          ]
        }
      ],
      "source": [
        "coef_dict = dict(zip(X.columns, mlr.coef_))\n",
        "\n",
        "# Print the coefficient values for each feature\n",
        "for feature, coef in coef_dict.items():\n",
        "    print(f\"{feature}: ---------------------------- {coef}\")"
      ]
    },
    {
      "cell_type": "markdown",
      "metadata": {
        "id": "L1UW70tPpK5a"
      },
      "source": [
        "**Obseravations**\n",
        "- All performance measures are substantially better than those of the baseline model (THANK GOD!). \n",
        "-The competition scoring metric is RMSE, a value of 1.8744 is decent, but let’s see if we can do better by using different models."
      ]
    },
    {
      "cell_type": "markdown",
      "metadata": {
        "id": "tkcFK5X4tHzV"
      },
      "source": [
        "### Extreme Gradient Boosting Regressor"
      ]
    },
    {
      "cell_type": "code",
      "execution_count": null,
      "metadata": {
        "colab": {
          "base_uri": "https://localhost:8080/"
        },
        "id": "Aqcm0hoxbpT1",
        "outputId": "26fa02af-f214-427f-b723-7198c1dde2a6"
      },
      "outputs": [
        {
          "name": "stdout",
          "output_type": "stream",
          "text": [
            "[12:30:22] WARNING: /workspace/src/objective/regression_obj.cu:152: reg:linear is now deprecated in favor of reg:squarederror.\n"
          ]
        }
      ],
      "source": [
        "# Create regressor\n",
        "xgb_regressor = XGBRegressor(random_state=42)\n",
        "\n",
        "# Fit model to training data\n",
        "xgb = xgb_regressor.fit(X_train, y_train)\n",
        "\n",
        "# Evaluate the performance\n",
        "scoring(xgb, X_valid, y_valid)"
      ]
    },
    {
      "cell_type": "markdown",
      "metadata": {
        "id": "czlydozVs6iX"
      },
      "source": [
        "### Random Forest Regressor"
      ]
    },
    {
      "cell_type": "code",
      "execution_count": null,
      "metadata": {
        "colab": {
          "base_uri": "https://localhost:8080/"
        },
        "id": "aaI0c0IltEy8",
        "outputId": "e1951302-8765-43a4-a66b-696e995abe0a"
      },
      "outputs": [
        {
          "name": "stdout",
          "output_type": "stream",
          "text": [
            "Model Performance\n",
            "Mean Absolute Error: 0.4054.\n",
            "Mean Squared Error: 0.3302.\n",
            "Root Mean Squared Error: 0.5746.\n",
            "R^2 Score = 0.9966.\n",
            "Accuracy = 90.47%.\n"
          ]
        }
      ],
      "source": [
        "# Create regressor\n",
        "rf_regressor = RandomForestRegressor(random_state=42)\n",
        "\n",
        "# Fit RF model to training data\n",
        "rf = rf_regressor.fit(X_train, y_train)\n",
        "\n",
        "# Evaluate the performance\n",
        "scoring(rf, X_valid, y_valid)"
      ]
    },
    {
      "cell_type": "markdown",
      "metadata": {
        "id": "GapHH1ziwvR-"
      },
      "source": [
        "**Observations**\n",
        "___\n",
        "🏁🏁 **RMSE ScoreBoard** 🏁🏁\n",
        "1. Random Forest :\n",
        "2. Linear Regressor :\n",
        "3. XGB Regressor : \n",
        "___\n",
        "\n",
        "🏁🏁 **Accuracy ScoreBoard** 🏁🏁\n",
        "1. Random Forest :\n",
        "2. Linear Regressor :\n",
        "3. XGB Regressor : \n",
        "___\n",
        "\n",
        "- Clearly our winner here is the Random Forest Regressor model\n",
        "- Let's improve our baseline models to see if it still stays on top!"
      ]
    },
    {
      "cell_type": "markdown",
      "metadata": {
        "id": "Ich_yJlMtxxU"
      },
      "source": [
        "## Improving Our Regressor Models"
      ]
    },
    {
      "cell_type": "markdown",
      "metadata": {
        "id": "UTsmrAiacklx"
      },
      "source": [
        "### Cross Validation"
      ]
    },
    {
      "cell_type": "markdown",
      "metadata": {
        "id": "-wbsgyzIuLb-"
      },
      "source": [
        "- We're going to use 4-fold Cross-Validation and compare the three models used so far: Multiple Linear Regression, Random Forest and Extreme Gradient Boosting Regressor.\n",
        "- Note that a 4-fold CV also nicely compares to the training and validation split from above because we split the data into 75% training and 25% validation data.\n",
        "- We have created a function that takes as inputs a list of models that we would like to compare, the feature data, the target variable data and how many folds we would like to create. \n",
        "- The function computes the performance measures we used previously and returns a table with the averages for all models as well as the scores for each type of measure per fold, in case we would like to investigate further. Here is the function:"
      ]
    },
    {
      "cell_type": "code",
      "execution_count": null,
      "metadata": {
        "id": "Qlv1EYYGuYec"
      },
      "outputs": [],
      "source": [
        "# Define a function that compares the CV perfromance of a set of predetrmined models \n",
        "model_names = ['mlr_reg', 'xgb_reg', 'rf_reg']\n",
        "def cv_comparison(models, X, y, cv):\n",
        "    # Initiate a DataFrame for the averages and a list for all measures\n",
        "    cv_accuracies = pd.DataFrame()\n",
        "    maes = []\n",
        "    mses = []\n",
        "    rmses = []\n",
        "    accs = []\n",
        "    count = 0\n",
        "    # Loop through the models, run a CV, add the average scores to the DataFrame and the scores of \n",
        "    # all CVs to the list\n",
        "    for model in models:\n",
        "        print(f\"---------------------------- {model_names[count]}: ----------------------------\")\n",
        "        mae = -np.round(cross_val_score(model, X, y, scoring='neg_mean_absolute_error', cv=cv), 4)\n",
        "        maes.append(mae)\n",
        "\n",
        "        mse = -np.round(cross_val_score(model, X, y, scoring='neg_mean_squared_error', cv=cv), 4)\n",
        "        mses.append(mse)\n",
        "\n",
        "        rmse = np.sqrt(mse)\n",
        "        rmses.append(rmse)\n",
        "        rmse_avg = round(rmse.mean(), 4)\n",
        "        print('RMSEs')\n",
        "        print(rmses)\n",
        "\n",
        "        acc = np.round((100 - (100 * (mae * len(X))) / sum(y)), 4)\n",
        "        accs.append(acc)\n",
        "        acc_avg = round(acc.mean(), 4)\n",
        "        print('Accuracys')\n",
        "        print(accs)\n",
        "\n",
        "        cv_accuracies[str(model)] = [rmse_avg, acc_avg]\n",
        "        count  = count + 1\n",
        "\n",
        "    cv_accuracies.index = ['Root Mean Squared Error', 'Accuracy']\n",
        "    return cv_accuracies, rmses, accs"
      ]
    },
    {
      "cell_type": "code",
      "execution_count": null,
      "metadata": {
        "id": "VVuR7RtUufdV"
      },
      "outputs": [],
      "source": [
        "# # Create the models to be tested\n",
        "# mlr_reg = LinearRegression()\n",
        "# rf_reg = _reg = xgb_regressor = XGBRegressor(random_state=42)\n",
        "\n",
        "# # Put the models in a list to be used for Cross-Validation\n",
        "# models = [mlr_reg, xgb_reg, rf_reg]\n",
        "RandomForestRegressor(random_state=42)\n",
        "# xgb\n",
        "# # Run the Cross-Validation comparison with the models used in this analysis\n",
        "# comp, rmses, accs = cv_comparison(models, X_train_temp, y_train_temp, 4)"
      ]
    },
    {
      "cell_type": "markdown",
      "metadata": {
        "id": "T-qN3X-GwZO4"
      },
      "source": [
        "To understand why the Cross-Validation results in different scores than the simple training and validation split we did eariler, we need to have a closer look at how the models perform on each fold. "
      ]
    },
    {
      "cell_type": "code",
      "execution_count": null,
      "metadata": {
        "id": "NEXkau4GwOe5"
      },
      "outputs": [],
      "source": [
        "# # Create DataFrame for all RMSEs\n",
        "# rmse_comp = pd.DataFrame(rmses, index=comp.columns, columns=['1st Fold', '2nd Fold', '3rd Fold', \n",
        "#                                                          '4th Fold'])\n",
        "\n",
        "# # Add a column for the averages\n",
        "# rmse_comp['Average'] = np.round(rmse_comp.mean(axis=1),4)"
      ]
    },
    {
      "cell_type": "code",
      "execution_count": null,
      "metadata": {
        "id": "DL_JMfBov1hU"
      },
      "outputs": [],
      "source": [
        "# # Create DataFrame for all Accuracys\n",
        "# acc_comp = pd.DataFrame(accs, index=comp.columns, columns=['1st Fold', '2nd Fold', '3rd Fold', \n",
        "#                                                          '4th Fold'])\n",
        "\n",
        "# # Add a column for the averages\n",
        "# acc_comp['Average'] = np.round(acc_comp.mean(axis=1),4)"
      ]
    },
    {
      "cell_type": "markdown",
      "metadata": {
        "id": "z3fZu4iacm8F"
      },
      "source": [
        "### Hyper Parameter Tuning"
      ]
    },
    {
      "cell_type": "markdown",
      "metadata": {
        "id": "Mf3cXW8Hy8lb"
      },
      "source": [
        "#### Random Forest Tuning"
      ]
    },
    {
      "cell_type": "code",
      "execution_count": null,
      "metadata": {
        "id": "pXcyGU4my_AA"
      },
      "outputs": [],
      "source": [
        "# Number of trees in Random Forest\n",
        "rf_n_estimators = [int(x) for x in np.linspace(200, 1000, 5)]\n",
        "rf_n_estimators.append(1500)\n",
        "rf_n_estimators.append(2000)\n",
        "\n",
        "# Maximum number of levels in tree\n",
        "rf_max_depth = [int(x) for x in np.linspace(5, 55, 11)]\n",
        "# Add the default as a possible value\n",
        "rf_max_depth.append(None)\n",
        "\n",
        "# Number of features to consider at every split\n",
        "rf_max_features = ['auto', 'sqrt', 'log2']\n",
        "\n",
        "# Criterion to split on\n",
        "rf_criterion = ['mse', 'mae']\n",
        "\n",
        "# Minimum number of samples required to split a node\n",
        "rf_min_samples_split = [int(x) for x in np.linspace(2, 10, 9)]\n",
        "\n",
        "# Minimum decrease in impurity required for split to happen\n",
        "rf_min_impurity_decrease = [0.0, 0.05, 0.1]\n",
        "\n",
        "# Method of selecting samples for training each tree\n",
        "rf_bootstrap = [True, False]\n",
        "\n",
        "# Create the grid\n",
        "rf_grid = {'n_estimators': rf_n_estimators,\n",
        "               'max_depth': rf_max_depth,\n",
        "               'max_features': rf_max_features,\n",
        "               'criterion': rf_criterion,\n",
        "               'min_samples_split': rf_min_samples_split,\n",
        "               'min_impurity_decrease': rf_min_impurity_decrease,\n",
        "               'bootstrap': rf_bootstrap}"
      ]
    },
    {
      "cell_type": "code",
      "execution_count": null,
      "metadata": {
        "colab": {
          "background_save": true,
          "base_uri": "https://localhost:8080/"
        },
        "id": "tPKiA0f_y_cM",
        "outputId": "c1b821c7-9471-468c-9460-b3678e037931"
      },
      "outputs": [
        {
          "name": "stdout",
          "output_type": "stream",
          "text": [
            "Fitting 3 folds for each of 200 candidates, totalling 600 fits\n"
          ]
        }
      ],
      "source": [
        "# Create the model to be tuned\n",
        "rf_base = RandomForestRegressor()\n",
        "\n",
        "# Create the random search Random Forest\n",
        "rf_random = RandomizedSearchCV(estimator = rf_base, param_distributions = rf_grid, \n",
        "                               n_iter = 200, cv = 3, verbose = 2, random_state = 42, \n",
        "                               n_jobs = -1)\n",
        "\n",
        "# Fit the random search model\n",
        "rf_random.fit(X_train_temp, y_train_temp)\n",
        "\n",
        "# View the best parameters from the random search\n",
        "rf_random.best_params_"
      ]
    },
    {
      "cell_type": "markdown",
      "metadata": {
        "id": "900h6mWCy32R"
      },
      "source": [
        "#### XGBRegressor Tuning"
      ]
    },
    {
      "cell_type": "code",
      "execution_count": null,
      "metadata": {
        "id": "fyQvf2vjcpZT"
      },
      "outputs": [],
      "source": [
        "# Number of trees to be used\n",
        "xgb_n_estimators = [int(x) for x in np.linspace(200, 2000, 10)]\n",
        "\n",
        "# Maximum number of levels in tree\n",
        "xgb_max_depth = [int(x) for x in np.linspace(2, 20, 10)]\n",
        "\n",
        "# Minimum number of instaces needed in each node\n",
        "xgb_min_child_weight = [int(x) for x in np.linspace(1, 10, 10)]\n",
        "\n",
        "# Tree construction algorithm used in XGBoost\n",
        "xgb_tree_method = ['auto', 'exact', 'approx', 'hist', 'gpu_hist']\n",
        "\n",
        "# Learning rate\n",
        "xgb_eta = [x for x in np.linspace(0.1, 0.6, 6)]\n",
        "\n",
        "# Minimum loss reduction required to make further partition\n",
        "xgb_gamma = [int(x) for x in np.linspace(0, 0.5, 6)]\n",
        "\n",
        "# Learning objective used\n",
        "xgb_objective = ['reg:squarederror', 'reg:squaredlogerror']\n",
        "\n",
        "# Create the grid\n",
        "xgb_grid = {'n_estimators': xgb_n_estimators,\n",
        "            'max_depth': xgb_max_depth,\n",
        "            'min_child_weight': xgb_min_child_weight,\n",
        "            'tree_method': xgb_tree_method,\n",
        "            'eta': xgb_eta,\n",
        "            'gamma': xgb_gamma,\n",
        "            'objective': xgb_objective}"
      ]
    },
    {
      "cell_type": "code",
      "execution_count": null,
      "metadata": {
        "id": "mkToUKitcxYH"
      },
      "outputs": [],
      "source": [
        "# Create the model to be tuned\n",
        "xgb_base = XGBRegressor()\n",
        "\n",
        "# Create the random search Random Forest\n",
        "xgb_random = RandomizedSearchCV(estimator = xgb_base, param_distributions = xgb_grid, \n",
        "                                n_iter = 200, cv = 3, verbose = 2, \n",
        "                                random_state = 420, n_jobs = -1)\n",
        "\n",
        "# Fit the random search model\n",
        "xgb_random.fit(X_train_temp, y_train_temp)\n",
        "\n",
        "# Get the optimal parameters\n",
        "xgb_random.best_params_"
      ]
    },
    {
      "cell_type": "markdown",
      "metadata": {
        "id": "qubK15l6zSGp"
      },
      "source": [
        "## Final Model Training"
      ]
    },
    {
      "cell_type": "code",
      "execution_count": null,
      "metadata": {
        "id": "HMJJSUA5c_b6"
      },
      "outputs": [],
      "source": [
        "# Create the final Multiple Linear Regression\n",
        "mlr_final = LinearRegression()\n",
        "\n",
        "# Train the models using 80% of the original data\n",
        "mlr_final.fit(X_train_temp, y_train_temp)"
      ]
    },
    {
      "cell_type": "code",
      "execution_count": null,
      "metadata": {
        "id": "eljJ5S60-wjx"
      },
      "outputs": [],
      "source": [
        "# Create the final Random Forest\n",
        "rf_final = RandomForestRegressor(n_estimators = 200,\n",
        "                                 min_samples_split = 6,\n",
        "                                 min_impurity_decrease = 0.0,\n",
        "                                 max_features = 'sqrt',\n",
        "                                 max_depth = 25,\n",
        "                                 criterion = 'mae',\n",
        "                                 bootstrap = True,\n",
        "                                 random_state = 42)\n",
        "\n",
        "# Train the models using 80% of the original data\n",
        "rf_final.fit(X_train_temp, y_train_temp)"
      ]
    },
    {
      "cell_type": "code",
      "execution_count": null,
      "metadata": {
        "id": "VJhmFiE3-1Gh"
      },
      "outputs": [],
      "source": [
        "# Create the fnal Extreme Gradient Booster\n",
        "xgb_final = XGBRegressor(tree_method = 'exact',\n",
        "                         objective = 'reg:squarederror',\n",
        "                         n_estimators = 1600,\n",
        "                         min_child_weight = 6,\n",
        "                         max_depth = 8,\n",
        "                         gamma = 0,\n",
        "                         eta = 0.1,\n",
        "                         random_state = 42)\n",
        "\n",
        "# Train the models using 80% of the original data\n",
        "xgb_final.fit(X_train_temp, y_train_temp)"
      ]
    },
    {
      "cell_type": "code",
      "execution_count": null,
      "metadata": {
        "id": "-6yUFvTyzYM7"
      },
      "outputs": [],
      "source": [
        "# Define a function that compares all final models\n",
        "def final_comparison(models, test_features, test_labels):\n",
        "    scores = pd.DataFrame()\n",
        "    for model in models:\n",
        "        predictions = model.predict(test_features)\n",
        "        mae = round(mean_absolute_error(test_labels, predictions), 4)\n",
        "        mse = round(mean_squared_error(test_labels, predictions), 4)\n",
        "        rmse = np.qrt(mse)\n",
        "        r2 = round(r2_score(test_labels, predictions), 4)\n",
        "        errors = abs(predictions - test_labels)\n",
        "        mape = 100 * np.mean(errors / test_labels)\n",
        "        accuracy = round(100 - mape, 4)\n",
        "        scores[str(model)] = [mae, mse, rmse, r2, accuracy]\n",
        "    scores.index = ['Mean Absolute Error', 'Mean Squared Error', 'Root Mean Squared Error', 'R^2', 'Accuracy']\n",
        "    return scores"
      ]
    },
    {
      "cell_type": "code",
      "execution_count": null,
      "metadata": {
        "id": "a1rLqq03zbdg"
      },
      "outputs": [],
      "source": [
        "# Call the comparison function with the three final models\n",
        "final_scores = final_comparison([mlr_final, rf_final, xgb_final], X_test, y_test)\n",
        "\n",
        "# Adjust the column headers\n",
        "final_scores.columns  = ['Linear Regression', 'Random Forest', 'Extreme Gradient Boosting']"
      ]
    },
    {
      "cell_type": "markdown",
      "metadata": {
        "id": "AxJFdBQGUITw"
      },
      "source": [
        "# Predictions on the test data"
      ]
    },
    {
      "cell_type": "code",
      "execution_count": null,
      "metadata": {
        "id": "YUm1-FV0UITx"
      },
      "outputs": [],
      "source": [
        "# submission = pd.read_csv('/kaggle/input/widsdatathon2023/sample_solution.csv') \n",
        "submission = pd.read_csv('data/sample_solution.csv')\n",
        "submission.head()"
      ]
    },
    {
      "cell_type": "markdown",
      "metadata": {
        "id": "e-COIgAS0G3D"
      },
      "source": [
        "We now make submission files with each of our models to see how well each does on the test dataset"
      ]
    },
    {
      "cell_type": "code",
      "execution_count": null,
      "metadata": {
        "id": "b-lc9Nj1UITz"
      },
      "outputs": [],
      "source": [
        "# mlr submission\n",
        "submission_mlr = submission.copy()\n",
        "submission_mlr[\"target\"] = mlr_final.predict(test_X)\n",
        "submission_mlr"
      ]
    },
    {
      "cell_type": "code",
      "execution_count": null,
      "metadata": {
        "id": "9Tq3uiulUIT0"
      },
      "outputs": [],
      "source": [
        "submission_mlr.to_csv('submission_mlr.csv', index = False) "
      ]
    },
    {
      "cell_type": "code",
      "execution_count": null,
      "metadata": {
        "id": "LhCdh4Kv0lA-"
      },
      "outputs": [],
      "source": [
        "# xgb susbmission\n",
        "submission_xgb = submission.copy()\n",
        "submission_xgb[\"target\"] = xgb_final.predict(test_X)\n",
        "submission_xgb"
      ]
    },
    {
      "cell_type": "code",
      "execution_count": null,
      "metadata": {
        "id": "rSuk2kox0lA-"
      },
      "outputs": [],
      "source": [
        "submission_xgb.to_csv('submission_xgb.csv', index = False) "
      ]
    },
    {
      "cell_type": "code",
      "execution_count": null,
      "metadata": {
        "id": "ob_Pvwux0mK7"
      },
      "outputs": [],
      "source": [
        "# rf subsmission\n",
        "submission_rf = submission.copy()\n",
        "submission_rf[\"target\"] = rf_final.predict(test_X)\n",
        "submission_rf"
      ]
    },
    {
      "cell_type": "code",
      "execution_count": null,
      "metadata": {
        "id": "NtIAVnR50mK8"
      },
      "outputs": [],
      "source": [
        "submission_rf.to_csv('submission_rf.csv', index = False) "
      ]
    },
    {
      "cell_type": "markdown",
      "metadata": {
        "id": "On_86awdcHMr"
      },
      "source": [
        "# Resources\n",
        "- [Part 2 : Using Machine Learning to Predict Fitbit Sleep Scores](https://towardsdatascience.com/using-machine-learning-to-predict-fitbit-sleep-scores-496a7d9ec48)\n",
        "- [Part 3 : Cross-Validation and Hyperparameter Tuning: How to Optimise your Machine Learning Model](https://towardsdatascience.com/cross-validation-and-hyperparameter-tuning-how-to-optimise-your-machine-learning-model-13f005af9d7d)"
      ]
    }
  ],
  "metadata": {
    "accelerator": "GPU",
    "colab": {
      "provenance": [],
      "toc_visible": true
    },
    "gpuClass": "standard",
    "kernelspec": {
      "display_name": "Python 3",
      "name": "python3"
    },
    "language_info": {
      "name": "python"
    }
  },
  "nbformat": 4,
  "nbformat_minor": 0
}
